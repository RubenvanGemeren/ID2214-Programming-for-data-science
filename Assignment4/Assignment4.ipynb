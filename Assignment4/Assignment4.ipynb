{
 "cells": [
  {
   "cell_type": "code",
   "execution_count": 1,
   "id": "aa017181-a955-45f7-8174-7b227466fc82",
   "metadata": {},
   "outputs": [],
   "source": [
    "import pandas as pd\n",
    "import polars as pl\n",
    "from rdkit import Chem"
   ]
  },
  {
   "cell_type": "code",
   "execution_count": 2,
   "id": "4cac373a-3ac2-42e6-ab5a-bbe2f9a76c8b",
   "metadata": {},
   "outputs": [],
   "source": [
    "training_df = pl.read_csv('data/training_smiles.csv')"
   ]
  },
  {
   "cell_type": "code",
   "execution_count": 3,
   "id": "c2dd6422-a51c-49be-9fc0-7954d70cb420",
   "metadata": {},
   "outputs": [
    {
     "data": {
      "text/html": [
       "<div><style>\n",
       ".dataframe > thead > tr,\n",
       ".dataframe > tbody > tr {\n",
       "  text-align: right;\n",
       "  white-space: pre-wrap;\n",
       "}\n",
       "</style>\n",
       "<small>shape: (2,)</small><table border=\"1\" class=\"dataframe\"><thead><tr><th>ACTIVE</th></tr><tr><td>f64</td></tr></thead><tbody><tr><td>0.0</td></tr><tr><td>1.0</td></tr></tbody></table></div>"
      ],
      "text/plain": [
       "shape: (2,)\n",
       "Series: 'ACTIVE' [f64]\n",
       "[\n",
       "\t0.0\n",
       "\t1.0\n",
       "]"
      ]
     },
     "execution_count": 3,
     "metadata": {},
     "output_type": "execute_result"
    }
   ],
   "source": [
    "# Is this binary? Yes\n",
    "training_df['ACTIVE'].unique()"
   ]
  },
  {
   "cell_type": "code",
   "execution_count": 4,
   "id": "3a19b270-5fd5-459e-ba48-7f9752ee57c9",
   "metadata": {},
   "outputs": [
    {
     "data": {
      "text/html": [
       "<div><style>\n",
       ".dataframe > thead > tr,\n",
       ".dataframe > tbody > tr {\n",
       "  text-align: right;\n",
       "  white-space: pre-wrap;\n",
       "}\n",
       "</style>\n",
       "<small>shape: (208_938, 3)</small><table border=\"1\" class=\"dataframe\"><thead><tr><th>INDEX</th><th>SMILES</th><th>ACTIVE</th></tr><tr><td>i64</td><td>str</td><td>f64</td></tr></thead><tbody><tr><td>1</td><td>&quot;CCOc1cc(CNc2cccc3ccccc23)cc(Br…</td><td>0.0</td></tr><tr><td>2</td><td>&quot;COc1cc(-c2ccc(Nc3ccccc3C(=O)O)…</td><td>0.0</td></tr><tr><td>3</td><td>&quot;O=c1cc(O)n(-c2ccc(Cl)cc2)c(=S)…</td><td>0.0</td></tr><tr><td>4</td><td>&quot;COc1ccc(NC(=O)C/C(C)=N/NC(=O)C…</td><td>0.0</td></tr><tr><td>5</td><td>&quot;CC(=O)/C=C(\\C)NCCNc1c(F)c(F)c(…</td><td>0.0</td></tr><tr><td>&hellip;</td><td>&hellip;</td><td>&hellip;</td></tr><tr><td>208934</td><td>&quot;COc1cccc(C(=O)Nc2ccc(S(=O)(=O)…</td><td>0.0</td></tr><tr><td>208935</td><td>&quot;Cc1ccc(Cn2cc(C(=O)c3ccc(F)cc3)…</td><td>0.0</td></tr><tr><td>208936</td><td>&quot;COc1c(Cl)cc(Cl)cc1/C=N/NC(=O)c…</td><td>0.0</td></tr><tr><td>208937</td><td>&quot;CCOc1ccc(NC(=O)CSc2nc3ccccc3c(…</td><td>0.0</td></tr><tr><td>208938</td><td>&quot;O=C(C1=NN[C@@H]2C(=O)N(c3cccc(…</td><td>0.0</td></tr></tbody></table></div>"
      ],
      "text/plain": [
       "shape: (208_938, 3)\n",
       "┌────────┬─────────────────────────────────┬────────┐\n",
       "│ INDEX  ┆ SMILES                          ┆ ACTIVE │\n",
       "│ ---    ┆ ---                             ┆ ---    │\n",
       "│ i64    ┆ str                             ┆ f64    │\n",
       "╞════════╪═════════════════════════════════╪════════╡\n",
       "│ 1      ┆ CCOc1cc(CNc2cccc3ccccc23)cc(Br… ┆ 0.0    │\n",
       "│ 2      ┆ COc1cc(-c2ccc(Nc3ccccc3C(=O)O)… ┆ 0.0    │\n",
       "│ 3      ┆ O=c1cc(O)n(-c2ccc(Cl)cc2)c(=S)… ┆ 0.0    │\n",
       "│ 4      ┆ COc1ccc(NC(=O)C/C(C)=N/NC(=O)C… ┆ 0.0    │\n",
       "│ 5      ┆ CC(=O)/C=C(\\C)NCCNc1c(F)c(F)c(… ┆ 0.0    │\n",
       "│ …      ┆ …                               ┆ …      │\n",
       "│ 208934 ┆ COc1cccc(C(=O)Nc2ccc(S(=O)(=O)… ┆ 0.0    │\n",
       "│ 208935 ┆ Cc1ccc(Cn2cc(C(=O)c3ccc(F)cc3)… ┆ 0.0    │\n",
       "│ 208936 ┆ COc1c(Cl)cc(Cl)cc1/C=N/NC(=O)c… ┆ 0.0    │\n",
       "│ 208937 ┆ CCOc1ccc(NC(=O)CSc2nc3ccccc3c(… ┆ 0.0    │\n",
       "│ 208938 ┆ O=C(C1=NN[C@@H]2C(=O)N(c3cccc(… ┆ 0.0    │\n",
       "└────────┴─────────────────────────────────┴────────┘"
      ]
     },
     "execution_count": 4,
     "metadata": {},
     "output_type": "execute_result"
    }
   ],
   "source": [
    "training_df"
   ]
  },
  {
   "cell_type": "code",
   "execution_count": 5,
   "id": "4be3ce0b-62c8-434b-aa0e-88ea0c14c1f4",
   "metadata": {},
   "outputs": [
    {
     "data": {
      "image/png": "[encoded data removed]",
      "text/plain": [
       "<rdkit.Chem.rdchem.Mol at 0x7fccc9bc3140>"
      ]
     },
     "execution_count": 5,
     "metadata": {},
     "output_type": "execute_result"
    }
   ],
   "source": [
    "first_entry = training_df['SMILES'].first()\n",
    "\n",
    "m1 = Chem.MolFromSmiles(first_entry)\n",
    "m1"
   ]
  },
  {
   "cell_type": "code",
   "execution_count": 6,
   "id": "8dc9b4ac-52c7-465d-8658-f2d982c8dc08",
   "metadata": {},
   "outputs": [
    {
     "data": {
      "text/plain": [
       "31"
      ]
     },
     "execution_count": 6,
     "metadata": {},
     "output_type": "execute_result"
    }
   ],
   "source": [
    "m1.GetNumAtoms()"
   ]
  },
  {
   "cell_type": "code",
   "execution_count": null,
   "id": "b578943a-fc98-4116-93af-d044fc07e35d",
   "metadata": {},
   "outputs": [],
   "source": []
  }
 ],
 "metadata": {
  "kernelspec": {
   "display_name": "Python 3 (ipykernel)",
   "language": "python",
   "name": "python3"
  },
  "language_info": {
   "codemirror_mode": {
    "name": "ipython",
    "version": 3
   },
   "file_extension": ".py",
   "mimetype": "text/x-python",
   "name": "python",
   "nbconvert_exporter": "python",
   "pygments_lexer": "ipython3",
   "version": "3.11.9"
  }
 },
 "nbformat": 4,
 "nbformat_minor": 5
}
