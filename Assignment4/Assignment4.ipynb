{
 "cells": [
  {
   "cell_type": "code",
   "execution_count": null,
   "id": "aa017181-a955-45f7-8174-7b227466fc82",
   "metadata": {},
   "outputs": [],
   "source": [
    "import pandas as pd\n",
    "import polars as pl\n",
    "from rdkit import Chem"
   ]
  },
  {
   "cell_type": "code",
   "execution_count": null,
   "id": "4cac373a-3ac2-42e6-ab5a-bbe2f9a76c8b",
   "metadata": {},
   "outputs": [],
   "source": [
    "training_df = pl.read_csv('data/training_smiles.csv')\n",
    "test_df = pl.read_csv('data/test_smiles.csv')"
   ]
  },
  {
   "cell_type": "markdown",
   "id": "f1bf308e-27df-4229-a514-3cf85a389955",
   "metadata": {
    "jp-MarkdownHeadingCollapsed": true
   },
   "source": [
    "## Sanity check"
   ]
  },
  {
   "cell_type": "code",
   "execution_count": null,
   "id": "c2dd6422-a51c-49be-9fc0-7954d70cb420",
   "metadata": {},
   "outputs": [],
   "source": [
    "# Is this binary? Yes\n",
    "training_df['ACTIVE'].unique()"
   ]
  },
  {
   "cell_type": "code",
   "execution_count": null,
   "id": "3a19b270-5fd5-459e-ba48-7f9752ee57c9",
   "metadata": {},
   "outputs": [],
   "source": [
    "training_df"
   ]
  },
  {
   "cell_type": "code",
   "execution_count": null,
   "id": "4be3ce0b-62c8-434b-aa0e-88ea0c14c1f4",
   "metadata": {},
   "outputs": [],
   "source": [
    "first_entry = training_df['SMILES'].first()\n",
    "\n",
    "m1 = Chem.MolFromSmiles(first_entry)\n",
    "m1"
   ]
  },
  {
   "cell_type": "code",
   "execution_count": null,
   "id": "3e3fdd56-b0ba-4f3e-bdc6-77037222d8e9",
   "metadata": {},
   "outputs": [],
   "source": [
    "m1.GetNumAtoms()"
   ]
  },
  {
   "cell_type": "code",
   "execution_count": null,
   "id": "0753acf4-2768-432e-b822-c90017500763",
   "metadata": {},
   "outputs": [],
   "source": [
    "import rdkit.Chem.rdMolDescriptors as d\n",
    "\n",
    "d.CalcExactMolWt(m1)"
   ]
  },
  {
   "cell_type": "markdown",
   "id": "000eb7db-63f9-4654-bae4-4ba255f2e85b",
   "metadata": {},
   "source": [
    "## Feature engineering"
   ]
  },
  {
   "cell_type": "code",
   "execution_count": null,
   "id": "403e99ff",
   "metadata": {},
   "outputs": [],
   "source": [
    "# UNBALANCED\n",
    "training_df['ACTIVE'].value_counts()"
   ]
  },
  {
   "cell_type": "code",
   "execution_count": null,
   "id": "03c63979-6d0d-4697-8f95-b528c316336d",
   "metadata": {},
   "outputs": [],
   "source": [
    "def calc_mol_descriptors(smiles):\n",
    "    mol = Chem.MolFromSmiles(smiles)\n",
    "    if mol is None:\n",
    "        return None\n",
    "    return d.CalcExactMolWt(mol)\n",
    "\n",
    "# Apply the function to the SMILES column\n",
    "training_df = training_df.with_columns(\n",
    "    pl.col(\"SMILES\").map_elements(calc_mol_descriptors, return_dtype=pl.Float64).alias(\"MolWeight\")\n",
    ")"
   ]
  },
  {
   "cell_type": "code",
   "execution_count": null,
   "id": "fc19357e",
   "metadata": {},
   "outputs": [],
   "source": [
    "import rdkit.Chem.Fragments as f\n",
    "\n",
    "def fragments(smiles):\n",
    "    mol = Chem.MolFromSmiles(smiles)\n",
    "    if mol is None:\n",
    "        return None\n",
    "    return f.fr_AI_COO(mol)\n",
    "\n",
    "# Apply the function to the SMILES column\n",
    "training_df = training_df.with_columns(\n",
    "    pl.col(\"SMILES\").map_elements(calc_mol_descriptors, return_dtype=pl.Float64).alias(\"Fragments\")\n",
    ")"
   ]
  },
  {
   "cell_type": "code",
   "execution_count": null,
   "id": "9131845c-2355-4157-addd-c0116e5c75aa",
   "metadata": {},
   "outputs": [],
   "source": [
    "import rdkit.Chem.Lipinski as l\n",
    "\n",
    "def calc_lipinski(smiles):\n",
    "    mol = Chem.MolFromSmiles(smiles)\n",
    "    if mol is None:\n",
    "        return None\n",
    "    return l.HeavyAtomCount(mol)\n",
    "\n",
    "# Apply the function to the SMILES column\n",
    "training_df = training_df.with_columns(\n",
    "    pl.col(\"SMILES\").map_elements(calc_lipinski, return_dtype=pl.Int64).alias(\"Lipinski-HAcount\")\n",
    ")"
   ]
  },
  {
   "cell_type": "code",
   "execution_count": null,
   "id": "5f2fd9a1",
   "metadata": {},
   "outputs": [],
   "source": [
    "from rdkit.Chem import rdFingerprintGenerator\n",
    "\n",
    "def calc_fingerprints(smiles):\n",
    "    mfpgen = rdFingerprintGenerator.GetMorganGenerator(2, fpSize=1024)\n",
    "    mol = Chem.MolFromSmiles(smiles)\n",
    "    if mol is None:\n",
    "        return None\n",
    "    return mfpgen.GetFingerprint(mol)\n",
    "\n",
    "# Apply the function to the SMILES column\n",
    "training_df = training_df.with_columns(\n",
    "    pl.col(\"SMILES\").map_elements(calc_fingerprints, return_dtype=pl.String).alias(\"MorganFingerprints\")\n",
    ")"
   ]
  },
  {
   "cell_type": "code",
   "execution_count": null,
   "id": "cae1bf3f-c817-48eb-815f-1f1241999cfd",
   "metadata": {},
   "outputs": [],
   "source": [
    "training_df.select(\"MolWeight\", \"Fragments\", \"Lipinski-HAcount\", \"MorganFingerprints\")"
   ]
  },
  {
   "cell_type": "markdown",
   "id": "f97409a0-be77-45b7-9275-eb134c120936",
   "metadata": {},
   "source": [
    "## Make prediction"
   ]
  },
  {
   "cell_type": "code",
   "execution_count": null,
   "id": "29fe93dd-7c7a-4953-ac34-734e0906a650",
   "metadata": {},
   "outputs": [],
   "source": [
    "from sklearn.model_selection import train_test_split\n",
    "\n",
    "X = training_df['MolWeight', 'Fragments', 'Lipinski-HAcount', 'MorganFingerprints']\n",
    "y = training_df[['ACTIVE']]\n",
    "\n",
    "X_train, X_test, y_train, y_val = train_test_split(X, y, test_size=.2)"
   ]
  },
  {
   "cell_type": "code",
   "execution_count": null,
   "id": "3129d080-d589-4def-ac9e-3e2667a4aa57",
   "metadata": {},
   "outputs": [],
   "source": [
    "from xgboost import XGBClassifier\n",
    "\n",
    "# Taken from https://xgboost.readthedocs.io/en/stable/get_started.html\n",
    "bst = XGBClassifier(n_estimators=2, max_depth=2, learning_rate=1, objective='binary:logistic')"
   ]
  },
  {
   "cell_type": "code",
   "execution_count": null,
   "id": "0e1e28ac-8a9c-4de3-852f-1e8f9b1d92d1",
   "metadata": {},
   "outputs": [],
   "source": [
    "X_train, y_train"
   ]
  },
  {
   "cell_type": "code",
   "execution_count": null,
   "id": "0d9c060b-93f5-4d7e-a5c8-99e884b16bc6",
   "metadata": {},
   "outputs": [],
   "source": [
    "bst.fit(X_train, y_train)"
   ]
  },
  {
   "cell_type": "code",
   "execution_count": null,
   "id": "3a0fa0fe-f291-4347-9150-6d660ccc46a7",
   "metadata": {},
   "outputs": [],
   "source": [
    "preds = bst.predict(X_test)\n",
    "preds.min(), preds.max()"
   ]
  },
  {
   "cell_type": "code",
   "execution_count": null,
   "id": "976e02cf-7404-4a4b-ac6f-6bd02b3a4bcd",
   "metadata": {},
   "outputs": [],
   "source": []
  }
 ],
 "metadata": {
  "kernelspec": {
   "display_name": "base",
   "language": "python",
   "name": "python3"
  },
  "language_info": {
   "codemirror_mode": {
    "name": "ipython",
    "version": 3
   },
   "file_extension": ".py",
   "mimetype": "text/x-python",
   "name": "python",
   "nbconvert_exporter": "python",
   "pygments_lexer": "ipython3",
   "version": "3.11.5"
  }
 },
 "nbformat": 4,
 "nbformat_minor": 5
}
