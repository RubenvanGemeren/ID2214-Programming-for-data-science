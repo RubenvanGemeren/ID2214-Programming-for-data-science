{
 "cells": [
  {
   "cell_type": "code",
   "execution_count": 1,
   "id": "aa017181-a955-45f7-8174-7b227466fc82",
   "metadata": {},
   "outputs": [],
   "source": [
    "import pandas as pd\n",
    "import polars as pl\n",
    "import numpy as np\n",
    "import matplotlib.pyplot as plt\n",
    "\n",
    "from rdkit import Chem\n",
    "from sklearn import metrics"
   ]
  },
  {
   "cell_type": "code",
   "execution_count": 2,
   "id": "4cac373a-3ac2-42e6-ab5a-bbe2f9a76c8b",
   "metadata": {},
   "outputs": [],
   "source": [
    "training_df = pl.read_csv('data/training_smiles.csv')"
   ]
  },
  {
   "cell_type": "markdown",
   "id": "000eb7db-63f9-4654-bae4-4ba255f2e85b",
   "metadata": {},
   "source": [
    "## Feature engineering"
   ]
  },
  {
   "cell_type": "code",
   "execution_count": 3,
   "id": "c3b11560",
   "metadata": {},
   "outputs": [],
   "source": [
    "features_dict = {\n",
    "    \"MolWeight\": pl.Float64,\n",
    "    \"Fragments\": pl.Int64,\n",
    "    \"Lipinski-HAcount\": pl.Int64,\n",
    "    \"LogP\": pl.Float64,\n",
    "    \"TPSA\": pl.Float64,\n",
    "    \"HBD\": pl.Int64,\n",
    "    \"HBA\": pl.Int64,\n",
    "}\n",
    "base_features = list(features_dict.keys())"
   ]
  },
  {
   "cell_type": "code",
   "execution_count": null,
   "id": "03c63979-6d0d-4697-8f95-b528c316336d",
   "metadata": {},
   "outputs": [
    {
     "name": "stderr",
     "output_type": "stream",
     "text": [
      "[21:45:07] WARNING: not removing hydrogen atom without neighbors\n",
      "[21:45:30] WARNING: not removing hydrogen atom without neighbors\n",
      "[21:45:54] WARNING: not removing hydrogen atom without neighbors\n",
      "[21:46:16] WARNING: not removing hydrogen atom without neighbors\n",
      "[21:46:35] WARNING: not removing hydrogen atom without neighbors\n",
      "[21:46:55] WARNING: not removing hydrogen atom without neighbors\n"
     ]
    }
   ],
   "source": [
    "from rdkit.Chem import rdMolDescriptors as d\n",
    "import rdkit.Chem.Fragments as f\n",
    "from rdkit.Chem import Lipinski as l\n",
    "from rdkit.Chem.rdFingerprintGenerator import GetMorganGenerator\n",
    "\n",
    "generator = GetMorganGenerator(radius=2, fpSize=1024)\n",
    "\n",
    "# Define a function to calculate all features\n",
    "def calculate_all_features(smiles):\n",
    "\n",
    "    mol = Chem.MolFromSmiles(smiles)\n",
    "    if mol is None:\n",
    "        return None, None, None, None, None, None, None\n",
    "    \n",
    "    mol_weight = d.CalcExactMolWt(mol)\n",
    "    #print(f\"molwt {mol_weight}\")\n",
    "    fragments = f.fr_Al_COO(mol)\n",
    "    #print(f\"fragments {fragments}\")\n",
    "    lipinski = l.HeavyAtomCount(mol)\n",
    "    #print(f\"lipinski {lipinski}\")\n",
    "    logp, _ = d.CalcCrippenDescriptors(mol)\n",
    "    #print(f\"logp {logp}\")\n",
    "    tpsa = d.CalcTPSA(mol)\n",
    "    #print(f\"tpsa {tpsa}\")\n",
    "    hbd = d.CalcNumHBD(mol)\n",
    "    #print(f\"hbd {hbd}\")\n",
    "    hba = d.CalcNumHBA(mol)\n",
    "    #print(f\"hba {hba}\")\n",
    "    \n",
    "    fingerprint = np.array(generator.GetFingerprint(mol))\n",
    "    fingerprint = [int(bit) for bit in fingerprint]\n",
    "    # print(fingerprint.sum())\n",
    "\n",
    "    return mol_weight, fragments, lipinski, logp, tpsa, hbd, hba, *fingerprint  # Unpack the fingerprint array\n",
    "\n",
    "# First add base features with the working fix\n",
    "training_df = training_df.with_columns([\n",
    "    pl.col(\"SMILES\").map_elements(\n",
    "        lambda x, idx=i: calculate_all_features(x)[idx],  # Use idx parameter to capture the correct index\n",
    "        return_dtype=features_dict[feature]\n",
    "    ).alias(feature) \n",
    "    for i, feature in enumerate(base_features)\n",
    "])\n",
    "\n",
    "# Then, add the fingerprint columns with the same fix\n",
    "fingerprint_columns = [\n",
    "    pl.col(\"SMILES\").map_elements(\n",
    "        lambda x, idx=i: calculate_all_features(x)[7 + idx],  # Offset by 7 to get to fingerprint values\n",
    "        return_dtype=pl.Int64\n",
    "    ).alias(f\"Fingerprint_{i}\") \n",
    "    for i in range(1024)\n",
    "]\n",
    "\n",
    "training_df = training_df.with_columns(fingerprint_columns)\n",
    "\n",
    "# Update features list to include fingerprint columns\n",
    "features = list(features_dict.keys()) + [f\"Fingerprint_{i}\" for i in range(1024)]"
   ]
  },
  {
   "cell_type": "code",
   "execution_count": null,
   "id": "cae1bf3f-c817-48eb-815f-1f1241999cfd",
   "metadata": {},
   "outputs": [],
   "source": [
    "training_df.select(features)"
   ]
  },
  {
   "cell_type": "code",
   "execution_count": 48,
   "id": "f0920dfd",
   "metadata": {},
   "outputs": [
    {
     "name": "stderr",
     "output_type": "stream",
     "text": [
      "/home/san/.pyenv/versions/3.11.9/envs/id2214-4/lib/python3.11/site-packages/numpy/lib/_function_base_impl.py:2999: RuntimeWarning: invalid value encountered in divide\n",
      "  c /= stddev[:, None]\n",
      "/home/san/.pyenv/versions/3.11.9/envs/id2214-4/lib/python3.11/site-packages/numpy/lib/_function_base_impl.py:3000: RuntimeWarning: invalid value encountered in divide\n",
      "  c /= stddev[None, :]\n"
     ]
    },
    {
     "data": {
      "text/html": [
       "<div><style>\n",
       ".dataframe > thead > tr,\n",
       ".dataframe > tbody > tr {\n",
       "  text-align: right;\n",
       "  white-space: pre-wrap;\n",
       "}\n",
       "</style>\n",
       "<small>shape: (1_031, 1_031)</small><table border=\"1\" class=\"dataframe\"><thead><tr><th>MolWeight</th><th>Fragments</th><th>Lipinski-HAcount</th><th>LogP</th><th>TPSA</th><th>HBD</th><th>HBA</th><th>Fingerprint_0</th><th>Fingerprint_1</th><th>Fingerprint_2</th><th>Fingerprint_3</th><th>Fingerprint_4</th><th>Fingerprint_5</th><th>Fingerprint_6</th><th>Fingerprint_7</th><th>Fingerprint_8</th><th>Fingerprint_9</th><th>Fingerprint_10</th><th>Fingerprint_11</th><th>Fingerprint_12</th><th>Fingerprint_13</th><th>Fingerprint_14</th><th>Fingerprint_15</th><th>Fingerprint_16</th><th>Fingerprint_17</th><th>Fingerprint_18</th><th>Fingerprint_19</th><th>Fingerprint_20</th><th>Fingerprint_21</th><th>Fingerprint_22</th><th>Fingerprint_23</th><th>Fingerprint_24</th><th>Fingerprint_25</th><th>Fingerprint_26</th><th>Fingerprint_27</th><th>Fingerprint_28</th><th>Fingerprint_29</th><th>&hellip;</th><th>Fingerprint_987</th><th>Fingerprint_988</th><th>Fingerprint_989</th><th>Fingerprint_990</th><th>Fingerprint_991</th><th>Fingerprint_992</th><th>Fingerprint_993</th><th>Fingerprint_994</th><th>Fingerprint_995</th><th>Fingerprint_996</th><th>Fingerprint_997</th><th>Fingerprint_998</th><th>Fingerprint_999</th><th>Fingerprint_1000</th><th>Fingerprint_1001</th><th>Fingerprint_1002</th><th>Fingerprint_1003</th><th>Fingerprint_1004</th><th>Fingerprint_1005</th><th>Fingerprint_1006</th><th>Fingerprint_1007</th><th>Fingerprint_1008</th><th>Fingerprint_1009</th><th>Fingerprint_1010</th><th>Fingerprint_1011</th><th>Fingerprint_1012</th><th>Fingerprint_1013</th><th>Fingerprint_1014</th><th>Fingerprint_1015</th><th>Fingerprint_1016</th><th>Fingerprint_1017</th><th>Fingerprint_1018</th><th>Fingerprint_1019</th><th>Fingerprint_1020</th><th>Fingerprint_1021</th><th>Fingerprint_1022</th><th>Fingerprint_1023</th></tr><tr><td>f64</td><td>f64</td><td>f64</td><td>f64</td><td>f64</td><td>f64</td><td>f64</td><td>f64</td><td>f64</td><td>f64</td><td>f64</td><td>f64</td><td>f64</td><td>f64</td><td>f64</td><td>f64</td><td>f64</td><td>f64</td><td>f64</td><td>f64</td><td>f64</td><td>f64</td><td>f64</td><td>f64</td><td>f64</td><td>f64</td><td>f64</td><td>f64</td><td>f64</td><td>f64</td><td>f64</td><td>f64</td><td>f64</td><td>f64</td><td>f64</td><td>f64</td><td>f64</td><td>&hellip;</td><td>f64</td><td>f64</td><td>f64</td><td>f64</td><td>f64</td><td>f64</td><td>f64</td><td>f64</td><td>f64</td><td>f64</td><td>f64</td><td>f64</td><td>f64</td><td>f64</td><td>f64</td><td>f64</td><td>f64</td><td>f64</td><td>f64</td><td>f64</td><td>f64</td><td>f64</td><td>f64</td><td>f64</td><td>f64</td><td>f64</td><td>f64</td><td>f64</td><td>f64</td><td>f64</td><td>f64</td><td>f64</td><td>f64</td><td>f64</td><td>f64</td><td>f64</td><td>f64</td></tr></thead><tbody><tr><td>1.0</td><td>NaN</td><td>0.97001</td><td>0.816345</td><td>0.669717</td><td>0.312616</td><td>0.680849</td><td>NaN</td><td>NaN</td><td>NaN</td><td>0.421592</td><td>-0.267124</td><td>NaN</td><td>NaN</td><td>NaN</td><td>NaN</td><td>NaN</td><td>NaN</td><td>NaN</td><td>NaN</td><td>NaN</td><td>NaN</td><td>0.421592</td><td>NaN</td><td>NaN</td><td>0.039632</td><td>-0.570957</td><td>NaN</td><td>0.138871</td><td>NaN</td><td>0.421695</td><td>NaN</td><td>NaN</td><td>NaN</td><td>NaN</td><td>NaN</td><td>NaN</td><td>&hellip;</td><td>NaN</td><td>NaN</td><td>NaN</td><td>NaN</td><td>NaN</td><td>NaN</td><td>NaN</td><td>NaN</td><td>NaN</td><td>NaN</td><td>0.394717</td><td>NaN</td><td>NaN</td><td>NaN</td><td>NaN</td><td>NaN</td><td>NaN</td><td>NaN</td><td>NaN</td><td>NaN</td><td>NaN</td><td>NaN</td><td>NaN</td><td>-0.198997</td><td>NaN</td><td>NaN</td><td>NaN</td><td>NaN</td><td>NaN</td><td>NaN</td><td>-0.119524</td><td>NaN</td><td>0.208042</td><td>NaN</td><td>NaN</td><td>NaN</td><td>NaN</td></tr><tr><td>NaN</td><td>NaN</td><td>NaN</td><td>NaN</td><td>NaN</td><td>NaN</td><td>NaN</td><td>NaN</td><td>NaN</td><td>NaN</td><td>NaN</td><td>NaN</td><td>NaN</td><td>NaN</td><td>NaN</td><td>NaN</td><td>NaN</td><td>NaN</td><td>NaN</td><td>NaN</td><td>NaN</td><td>NaN</td><td>NaN</td><td>NaN</td><td>NaN</td><td>NaN</td><td>NaN</td><td>NaN</td><td>NaN</td><td>NaN</td><td>NaN</td><td>NaN</td><td>NaN</td><td>NaN</td><td>NaN</td><td>NaN</td><td>NaN</td><td>&hellip;</td><td>NaN</td><td>NaN</td><td>NaN</td><td>NaN</td><td>NaN</td><td>NaN</td><td>NaN</td><td>NaN</td><td>NaN</td><td>NaN</td><td>NaN</td><td>NaN</td><td>NaN</td><td>NaN</td><td>NaN</td><td>NaN</td><td>NaN</td><td>NaN</td><td>NaN</td><td>NaN</td><td>NaN</td><td>NaN</td><td>NaN</td><td>NaN</td><td>NaN</td><td>NaN</td><td>NaN</td><td>NaN</td><td>NaN</td><td>NaN</td><td>NaN</td><td>NaN</td><td>NaN</td><td>NaN</td><td>NaN</td><td>NaN</td><td>NaN</td></tr><tr><td>0.97001</td><td>NaN</td><td>1.0</td><td>0.780949</td><td>0.778911</td><td>0.375114</td><td>0.711441</td><td>NaN</td><td>NaN</td><td>NaN</td><td>0.2793</td><td>-0.247681</td><td>NaN</td><td>NaN</td><td>NaN</td><td>NaN</td><td>NaN</td><td>NaN</td><td>NaN</td><td>NaN</td><td>NaN</td><td>NaN</td><td>0.2793</td><td>NaN</td><td>NaN</td><td>0.121205</td><td>-0.490092</td><td>NaN</td><td>0.221332</td><td>NaN</td><td>0.54279</td><td>NaN</td><td>NaN</td><td>NaN</td><td>NaN</td><td>NaN</td><td>NaN</td><td>&hellip;</td><td>NaN</td><td>NaN</td><td>NaN</td><td>NaN</td><td>NaN</td><td>NaN</td><td>NaN</td><td>NaN</td><td>NaN</td><td>NaN</td><td>0.445037</td><td>NaN</td><td>NaN</td><td>NaN</td><td>NaN</td><td>NaN</td><td>NaN</td><td>NaN</td><td>NaN</td><td>NaN</td><td>NaN</td><td>NaN</td><td>NaN</td><td>-0.194983</td><td>NaN</td><td>NaN</td><td>NaN</td><td>NaN</td><td>NaN</td><td>NaN</td><td>-0.055333</td><td>NaN</td><td>0.361433</td><td>NaN</td><td>NaN</td><td>NaN</td><td>NaN</td></tr><tr><td>0.816345</td><td>NaN</td><td>0.780949</td><td>1.0</td><td>0.563217</td><td>0.458457</td><td>0.282968</td><td>NaN</td><td>NaN</td><td>NaN</td><td>0.560574</td><td>-0.129469</td><td>NaN</td><td>NaN</td><td>NaN</td><td>NaN</td><td>NaN</td><td>NaN</td><td>NaN</td><td>NaN</td><td>NaN</td><td>NaN</td><td>0.560574</td><td>NaN</td><td>NaN</td><td>-0.073754</td><td>-0.349184</td><td>NaN</td><td>-0.251516</td><td>NaN</td><td>0.640819</td><td>NaN</td><td>NaN</td><td>NaN</td><td>NaN</td><td>NaN</td><td>NaN</td><td>&hellip;</td><td>NaN</td><td>NaN</td><td>NaN</td><td>NaN</td><td>NaN</td><td>NaN</td><td>NaN</td><td>NaN</td><td>NaN</td><td>NaN</td><td>-0.128758</td><td>NaN</td><td>NaN</td><td>NaN</td><td>NaN</td><td>NaN</td><td>NaN</td><td>NaN</td><td>NaN</td><td>NaN</td><td>NaN</td><td>NaN</td><td>NaN</td><td>-0.287796</td><td>NaN</td><td>NaN</td><td>NaN</td><td>NaN</td><td>NaN</td><td>NaN</td><td>-0.271163</td><td>NaN</td><td>0.107775</td><td>NaN</td><td>NaN</td><td>NaN</td><td>NaN</td></tr><tr><td>0.669717</td><td>NaN</td><td>0.778911</td><td>0.563217</td><td>1.0</td><td>0.59171</td><td>0.768306</td><td>NaN</td><td>NaN</td><td>NaN</td><td>-0.209466</td><td>-0.368325</td><td>NaN</td><td>NaN</td><td>NaN</td><td>NaN</td><td>NaN</td><td>NaN</td><td>NaN</td><td>NaN</td><td>NaN</td><td>NaN</td><td>-0.209466</td><td>NaN</td><td>NaN</td><td>0.292168</td><td>-0.540342</td><td>NaN</td><td>0.317829</td><td>NaN</td><td>0.771131</td><td>NaN</td><td>NaN</td><td>NaN</td><td>NaN</td><td>NaN</td><td>NaN</td><td>&hellip;</td><td>NaN</td><td>NaN</td><td>NaN</td><td>NaN</td><td>NaN</td><td>NaN</td><td>NaN</td><td>NaN</td><td>NaN</td><td>NaN</td><td>0.375184</td><td>NaN</td><td>NaN</td><td>NaN</td><td>NaN</td><td>NaN</td><td>NaN</td><td>NaN</td><td>NaN</td><td>NaN</td><td>NaN</td><td>NaN</td><td>NaN</td><td>-0.179296</td><td>NaN</td><td>NaN</td><td>NaN</td><td>NaN</td><td>NaN</td><td>NaN</td><td>0.084654</td><td>NaN</td><td>0.506174</td><td>NaN</td><td>NaN</td><td>NaN</td><td>NaN</td></tr><tr><td>&hellip;</td><td>&hellip;</td><td>&hellip;</td><td>&hellip;</td><td>&hellip;</td><td>&hellip;</td><td>&hellip;</td><td>&hellip;</td><td>&hellip;</td><td>&hellip;</td><td>&hellip;</td><td>&hellip;</td><td>&hellip;</td><td>&hellip;</td><td>&hellip;</td><td>&hellip;</td><td>&hellip;</td><td>&hellip;</td><td>&hellip;</td><td>&hellip;</td><td>&hellip;</td><td>&hellip;</td><td>&hellip;</td><td>&hellip;</td><td>&hellip;</td><td>&hellip;</td><td>&hellip;</td><td>&hellip;</td><td>&hellip;</td><td>&hellip;</td><td>&hellip;</td><td>&hellip;</td><td>&hellip;</td><td>&hellip;</td><td>&hellip;</td><td>&hellip;</td><td>&hellip;</td><td>&hellip;</td><td>&hellip;</td><td>&hellip;</td><td>&hellip;</td><td>&hellip;</td><td>&hellip;</td><td>&hellip;</td><td>&hellip;</td><td>&hellip;</td><td>&hellip;</td><td>&hellip;</td><td>&hellip;</td><td>&hellip;</td><td>&hellip;</td><td>&hellip;</td><td>&hellip;</td><td>&hellip;</td><td>&hellip;</td><td>&hellip;</td><td>&hellip;</td><td>&hellip;</td><td>&hellip;</td><td>&hellip;</td><td>&hellip;</td><td>&hellip;</td><td>&hellip;</td><td>&hellip;</td><td>&hellip;</td><td>&hellip;</td><td>&hellip;</td><td>&hellip;</td><td>&hellip;</td><td>&hellip;</td><td>&hellip;</td><td>&hellip;</td><td>&hellip;</td><td>&hellip;</td><td>&hellip;</td></tr><tr><td>0.208042</td><td>NaN</td><td>0.361433</td><td>0.107775</td><td>0.506174</td><td>0.037113</td><td>0.353919</td><td>NaN</td><td>NaN</td><td>NaN</td><td>-0.272166</td><td>0.408248</td><td>NaN</td><td>NaN</td><td>NaN</td><td>NaN</td><td>NaN</td><td>NaN</td><td>NaN</td><td>NaN</td><td>NaN</td><td>NaN</td><td>-0.272166</td><td>NaN</td><td>NaN</td><td>0.408248</td><td>0.102062</td><td>NaN</td><td>0.612372</td><td>NaN</td><td>0.408248</td><td>NaN</td><td>NaN</td><td>NaN</td><td>NaN</td><td>NaN</td><td>NaN</td><td>&hellip;</td><td>NaN</td><td>NaN</td><td>NaN</td><td>NaN</td><td>NaN</td><td>NaN</td><td>NaN</td><td>NaN</td><td>NaN</td><td>NaN</td><td>0.356348</td><td>NaN</td><td>NaN</td><td>NaN</td><td>NaN</td><td>NaN</td><td>NaN</td><td>NaN</td><td>NaN</td><td>NaN</td><td>NaN</td><td>NaN</td><td>NaN</td><td>-0.272166</td><td>NaN</td><td>NaN</td><td>NaN</td><td>NaN</td><td>NaN</td><td>NaN</td><td>0.102062</td><td>NaN</td><td>1.0</td><td>NaN</td><td>NaN</td><td>NaN</td><td>NaN</td></tr><tr><td>NaN</td><td>NaN</td><td>NaN</td><td>NaN</td><td>NaN</td><td>NaN</td><td>NaN</td><td>NaN</td><td>NaN</td><td>NaN</td><td>NaN</td><td>NaN</td><td>NaN</td><td>NaN</td><td>NaN</td><td>NaN</td><td>NaN</td><td>NaN</td><td>NaN</td><td>NaN</td><td>NaN</td><td>NaN</td><td>NaN</td><td>NaN</td><td>NaN</td><td>NaN</td><td>NaN</td><td>NaN</td><td>NaN</td><td>NaN</td><td>NaN</td><td>NaN</td><td>NaN</td><td>NaN</td><td>NaN</td><td>NaN</td><td>NaN</td><td>&hellip;</td><td>NaN</td><td>NaN</td><td>NaN</td><td>NaN</td><td>NaN</td><td>NaN</td><td>NaN</td><td>NaN</td><td>NaN</td><td>NaN</td><td>NaN</td><td>NaN</td><td>NaN</td><td>NaN</td><td>NaN</td><td>NaN</td><td>NaN</td><td>NaN</td><td>NaN</td><td>NaN</td><td>NaN</td><td>NaN</td><td>NaN</td><td>NaN</td><td>NaN</td><td>NaN</td><td>NaN</td><td>NaN</td><td>NaN</td><td>NaN</td><td>NaN</td><td>NaN</td><td>NaN</td><td>NaN</td><td>NaN</td><td>NaN</td><td>NaN</td></tr><tr><td>NaN</td><td>NaN</td><td>NaN</td><td>NaN</td><td>NaN</td><td>NaN</td><td>NaN</td><td>NaN</td><td>NaN</td><td>NaN</td><td>NaN</td><td>NaN</td><td>NaN</td><td>NaN</td><td>NaN</td><td>NaN</td><td>NaN</td><td>NaN</td><td>NaN</td><td>NaN</td><td>NaN</td><td>NaN</td><td>NaN</td><td>NaN</td><td>NaN</td><td>NaN</td><td>NaN</td><td>NaN</td><td>NaN</td><td>NaN</td><td>NaN</td><td>NaN</td><td>NaN</td><td>NaN</td><td>NaN</td><td>NaN</td><td>NaN</td><td>&hellip;</td><td>NaN</td><td>NaN</td><td>NaN</td><td>NaN</td><td>NaN</td><td>NaN</td><td>NaN</td><td>NaN</td><td>NaN</td><td>NaN</td><td>NaN</td><td>NaN</td><td>NaN</td><td>NaN</td><td>NaN</td><td>NaN</td><td>NaN</td><td>NaN</td><td>NaN</td><td>NaN</td><td>NaN</td><td>NaN</td><td>NaN</td><td>NaN</td><td>NaN</td><td>NaN</td><td>NaN</td><td>NaN</td><td>NaN</td><td>NaN</td><td>NaN</td><td>NaN</td><td>NaN</td><td>NaN</td><td>NaN</td><td>NaN</td><td>NaN</td></tr><tr><td>NaN</td><td>NaN</td><td>NaN</td><td>NaN</td><td>NaN</td><td>NaN</td><td>NaN</td><td>NaN</td><td>NaN</td><td>NaN</td><td>NaN</td><td>NaN</td><td>NaN</td><td>NaN</td><td>NaN</td><td>NaN</td><td>NaN</td><td>NaN</td><td>NaN</td><td>NaN</td><td>NaN</td><td>NaN</td><td>NaN</td><td>NaN</td><td>NaN</td><td>NaN</td><td>NaN</td><td>NaN</td><td>NaN</td><td>NaN</td><td>NaN</td><td>NaN</td><td>NaN</td><td>NaN</td><td>NaN</td><td>NaN</td><td>NaN</td><td>&hellip;</td><td>NaN</td><td>NaN</td><td>NaN</td><td>NaN</td><td>NaN</td><td>NaN</td><td>NaN</td><td>NaN</td><td>NaN</td><td>NaN</td><td>NaN</td><td>NaN</td><td>NaN</td><td>NaN</td><td>NaN</td><td>NaN</td><td>NaN</td><td>NaN</td><td>NaN</td><td>NaN</td><td>NaN</td><td>NaN</td><td>NaN</td><td>NaN</td><td>NaN</td><td>NaN</td><td>NaN</td><td>NaN</td><td>NaN</td><td>NaN</td><td>NaN</td><td>NaN</td><td>NaN</td><td>NaN</td><td>NaN</td><td>NaN</td><td>NaN</td></tr><tr><td>NaN</td><td>NaN</td><td>NaN</td><td>NaN</td><td>NaN</td><td>NaN</td><td>NaN</td><td>NaN</td><td>NaN</td><td>NaN</td><td>NaN</td><td>NaN</td><td>NaN</td><td>NaN</td><td>NaN</td><td>NaN</td><td>NaN</td><td>NaN</td><td>NaN</td><td>NaN</td><td>NaN</td><td>NaN</td><td>NaN</td><td>NaN</td><td>NaN</td><td>NaN</td><td>NaN</td><td>NaN</td><td>NaN</td><td>NaN</td><td>NaN</td><td>NaN</td><td>NaN</td><td>NaN</td><td>NaN</td><td>NaN</td><td>NaN</td><td>&hellip;</td><td>NaN</td><td>NaN</td><td>NaN</td><td>NaN</td><td>NaN</td><td>NaN</td><td>NaN</td><td>NaN</td><td>NaN</td><td>NaN</td><td>NaN</td><td>NaN</td><td>NaN</td><td>NaN</td><td>NaN</td><td>NaN</td><td>NaN</td><td>NaN</td><td>NaN</td><td>NaN</td><td>NaN</td><td>NaN</td><td>NaN</td><td>NaN</td><td>NaN</td><td>NaN</td><td>NaN</td><td>NaN</td><td>NaN</td><td>NaN</td><td>NaN</td><td>NaN</td><td>NaN</td><td>NaN</td><td>NaN</td><td>NaN</td><td>NaN</td></tr></tbody></table></div>"
      ],
      "text/plain": [
       "shape: (1_031, 1_031)\n",
       "┌───────────┬───────────┬───────────┬──────────┬───┬───────────┬───────────┬───────────┬───────────┐\n",
       "│ MolWeight ┆ Fragments ┆ Lipinski- ┆ LogP     ┆ … ┆ Fingerpri ┆ Fingerpri ┆ Fingerpri ┆ Fingerpri │\n",
       "│ ---       ┆ ---       ┆ HAcount   ┆ ---      ┆   ┆ nt_1020   ┆ nt_1021   ┆ nt_1022   ┆ nt_1023   │\n",
       "│ f64       ┆ f64       ┆ ---       ┆ f64      ┆   ┆ ---       ┆ ---       ┆ ---       ┆ ---       │\n",
       "│           ┆           ┆ f64       ┆          ┆   ┆ f64       ┆ f64       ┆ f64       ┆ f64       │\n",
       "╞═══════════╪═══════════╪═══════════╪══════════╪═══╪═══════════╪═══════════╪═══════════╪═══════════╡\n",
       "│ 1.0       ┆ NaN       ┆ 0.97001   ┆ 0.816345 ┆ … ┆ NaN       ┆ NaN       ┆ NaN       ┆ NaN       │\n",
       "│ NaN       ┆ NaN       ┆ NaN       ┆ NaN      ┆ … ┆ NaN       ┆ NaN       ┆ NaN       ┆ NaN       │\n",
       "│ 0.97001   ┆ NaN       ┆ 1.0       ┆ 0.780949 ┆ … ┆ NaN       ┆ NaN       ┆ NaN       ┆ NaN       │\n",
       "│ 0.816345  ┆ NaN       ┆ 0.780949  ┆ 1.0      ┆ … ┆ NaN       ┆ NaN       ┆ NaN       ┆ NaN       │\n",
       "│ 0.669717  ┆ NaN       ┆ 0.778911  ┆ 0.563217 ┆ … ┆ NaN       ┆ NaN       ┆ NaN       ┆ NaN       │\n",
       "│ …         ┆ …         ┆ …         ┆ …        ┆ … ┆ …         ┆ …         ┆ …         ┆ …         │\n",
       "│ 0.208042  ┆ NaN       ┆ 0.361433  ┆ 0.107775 ┆ … ┆ NaN       ┆ NaN       ┆ NaN       ┆ NaN       │\n",
       "│ NaN       ┆ NaN       ┆ NaN       ┆ NaN      ┆ … ┆ NaN       ┆ NaN       ┆ NaN       ┆ NaN       │\n",
       "│ NaN       ┆ NaN       ┆ NaN       ┆ NaN      ┆ … ┆ NaN       ┆ NaN       ┆ NaN       ┆ NaN       │\n",
       "│ NaN       ┆ NaN       ┆ NaN       ┆ NaN      ┆ … ┆ NaN       ┆ NaN       ┆ NaN       ┆ NaN       │\n",
       "│ NaN       ┆ NaN       ┆ NaN       ┆ NaN      ┆ … ┆ NaN       ┆ NaN       ┆ NaN       ┆ NaN       │\n",
       "└───────────┴───────────┴───────────┴──────────┴───┴───────────┴───────────┴───────────┴───────────┘"
      ]
     },
     "execution_count": 48,
     "metadata": {},
     "output_type": "execute_result"
    }
   ],
   "source": [
    "training_df.select(features).corr()"
   ]
  },
  {
   "cell_type": "code",
   "execution_count": 8,
   "id": "70228ab2-d030-475a-b5b4-da00838d28c1",
   "metadata": {},
   "outputs": [],
   "source": [
    "# Optional: Save the training features df\n",
    "training_df.write_parquet(\"final_enriched_training_df.parquet\")"
   ]
  },
  {
   "cell_type": "markdown",
   "id": "f97409a0-be77-45b7-9275-eb134c120936",
   "metadata": {},
   "source": [
    "## Make prediction"
   ]
  },
  {
   "cell_type": "code",
   "execution_count": 3,
   "id": "3b897bf5-818c-4dd0-8675-9bed6fcdb7fc",
   "metadata": {},
   "outputs": [],
   "source": [
    "# training_df = pl.read_parquet(\"enriched_training_df.parquet\")"
   ]
  },
  {
   "cell_type": "code",
   "execution_count": 4,
   "id": "29fe93dd-7c7a-4953-ac34-734e0906a650",
   "metadata": {},
   "outputs": [],
   "source": [
    "from sklearn.model_selection import train_test_split\n",
    "\n",
    "X = training_df[features]\n",
    "y = training_df[['ACTIVE']]\n",
    "\n",
    "X_train, X_test, y_train, y_test = train_test_split(X, y, test_size=.2, stratify=y)"
   ]
  },
  {
   "cell_type": "code",
   "execution_count": 5,
   "id": "d5478b52-9148-4f2c-af12-6dc984f8d146",
   "metadata": {},
   "outputs": [
    {
     "name": "stdout",
     "output_type": "stream",
     "text": [
      "Raw counts:\n",
      "shape: (2, 2)\n",
      "┌────────┬────────┐\n",
      "│ ACTIVE ┆ count  │\n",
      "│ ---    ┆ ---    │\n",
      "│ f64    ┆ u32    │\n",
      "╞════════╪════════╡\n",
      "│ 1.0    ┆ 7933   │\n",
      "│ 0.0    ┆ 201005 │\n",
      "└────────┴────────┘\n",
      "\n",
      "Calculated ratio (negative/positive):\n",
      "25.33782932055969\n"
     ]
    }
   ],
   "source": [
    "value_counts = training_df['ACTIVE'].value_counts()\n",
    "print(\"Raw counts:\")\n",
    "print(value_counts)\n",
    "\n",
    "# Actual ratio\n",
    "ratio = (value_counts.filter(pl.col(\"ACTIVE\") == 0.0)[\"count\"] / value_counts.filter(pl.col(\"ACTIVE\") == 1.0)[\"count\"]).item()\n",
    "print(\"\\nCalculated ratio (negative/positive):\")\n",
    "print(ratio)"
   ]
  },
  {
   "cell_type": "code",
   "execution_count": null,
   "id": "d032ff0d-9dc8-4661-ad10-f89243be9192",
   "metadata": {},
   "outputs": [],
   "source": [
    "# Use GridSearchCV to find the best parameters for XGBoost\n",
    "from sklearn.model_selection import GridSearchCV\n",
    "from xgboost import XGBClassifier\n",
    "\n",
    "params = {\n",
    "    'max_depth': [3, 5, 7, 9, 11],\n",
    "    'learning_rate': [0.01, 0.1, 1],\n",
    "    'n_estimators': [5, 10, 20, 50, 100],\n",
    "    # 'scale_pos_weight': [1, ratio],\n",
    "    'objective': ['binary:logistic', 'binary:hinge', 'binary:logitraw']\n",
    "}\n",
    "grid_search = GridSearchCV(estimator=XGBClassifier(random_state=42, eval_metric='auc'), param_grid=params, cv=5, scoring='roc_auc')\n",
    "grid_search.fit(X_train, y_train)\n",
    "best_params = grid_search.best_params_\n",
    "best_params"
   ]
  },
  {
   "cell_type": "code",
   "execution_count": 6,
   "id": "3129d080-d589-4def-ac9e-3e2667a4aa57",
   "metadata": {},
   "outputs": [],
   "source": [
    "from xgboost import XGBClassifier\n",
    "\n",
    "best_params = {'learning_rate': 0.1,\n",
    " 'max_depth': 11,\n",
    " 'n_estimators': 100,\n",
    " 'objective': 'binary:logistic'}\n",
    "\n",
    "# Taken from https://xgboost.readthedocs.io/en/stable/get_started.html\n",
    "bst = XGBClassifier(\n",
    "    **best_params,\n",
    "    scale_pos_weight=ratio,\n",
    "    random_state=42,\n",
    "    eval_metric='auc'\n",
    ")"
   ]
  },
  {
   "cell_type": "code",
   "execution_count": 7,
   "id": "0e1e28ac-8a9c-4de3-852f-1e8f9b1d92d1",
   "metadata": {},
   "outputs": [
    {
     "data": {
      "text/plain": [
       "(shape: (167_150, 6)\n",
       " ┌────────────┬───────────┬─────────┬────────┬─────┬─────┐\n",
       " │ MolWeight  ┆ Fragments ┆ LogP    ┆ TPSA   ┆ HBD ┆ HBA │\n",
       " │ ---        ┆ ---       ┆ ---     ┆ ---    ┆ --- ┆ --- │\n",
       " │ f64        ┆ i64       ┆ f64     ┆ f64    ┆ i64 ┆ i64 │\n",
       " ╞════════════╪═══════════╪═════════╪════════╪═════╪═════╡\n",
       " │ 272.09094  ┆ 0         ┆ 1.94448 ┆ 114.95 ┆ 1   ┆ 6   │\n",
       " │ 314.101505 ┆ 0         ┆ 2.0523  ┆ 113.36 ┆ 1   ┆ 8   │\n",
       " │ 334.074913 ┆ 0         ┆ 2.0408  ┆ 86.68  ┆ 0   ┆ 9   │\n",
       " │ 361.216555 ┆ 0         ┆ 2.3552  ┆ 61.44  ┆ 2   ┆ 3   │\n",
       " │ 420.136446 ┆ 0         ┆ 3.1279  ┆ 76.46  ┆ 1   ┆ 5   │\n",
       " │ …          ┆ …         ┆ …       ┆ …      ┆ …   ┆ …   │\n",
       " │ 321.036441 ┆ 0         ┆ 3.466   ┆ 38.33  ┆ 1   ┆ 3   │\n",
       " │ 431.19574  ┆ 0         ┆ 1.9809  ┆ 90.92  ┆ 1   ┆ 7   │\n",
       " │ 363.057215 ┆ 0         ┆ 1.56162 ┆ 107.71 ┆ 1   ┆ 10  │\n",
       " │ 388.168145 ┆ 0         ┆ 2.2593  ┆ 92.27  ┆ 2   ┆ 8   │\n",
       " │ 348.104084 ┆ 0         ┆ 3.3055  ┆ 58.2   ┆ 2   ┆ 2   │\n",
       " └────────────┴───────────┴─────────┴────────┴─────┴─────┘,\n",
       " shape: (167_150, 1)\n",
       " ┌────────┐\n",
       " │ ACTIVE │\n",
       " │ ---    │\n",
       " │ f64    │\n",
       " ╞════════╡\n",
       " │ 0.0    │\n",
       " │ 0.0    │\n",
       " │ 0.0    │\n",
       " │ 0.0    │\n",
       " │ 0.0    │\n",
       " │ …      │\n",
       " │ 0.0    │\n",
       " │ 0.0    │\n",
       " │ 0.0    │\n",
       " │ 0.0    │\n",
       " │ 0.0    │\n",
       " └────────┘)"
      ]
     },
     "execution_count": 7,
     "metadata": {},
     "output_type": "execute_result"
    }
   ],
   "source": [
    "X_train, y_train"
   ]
  },
  {
   "cell_type": "code",
   "execution_count": 8,
   "id": "38f7800d-43ce-452f-a572-e35fa7693b28",
   "metadata": {},
   "outputs": [
    {
     "data": {
      "text/html": [
       "<style>#sk-container-id-1 {\n",
       "  /* Definition of color scheme common for light and dark mode */\n",
       "  --sklearn-color-text: black;\n",
       "  --sklearn-color-line: gray;\n",
       "  /* Definition of color scheme for unfitted estimators */\n",
       "  --sklearn-color-unfitted-level-0: #fff5e6;\n",
       "  --sklearn-color-unfitted-level-1: #f6e4d2;\n",
       "  --sklearn-color-unfitted-level-2: #ffe0b3;\n",
       "  --sklearn-color-unfitted-level-3: chocolate;\n",
       "  /* Definition of color scheme for fitted estimators */\n",
       "  --sklearn-color-fitted-level-0: #f0f8ff;\n",
       "  --sklearn-color-fitted-level-1: #d4ebff;\n",
       "  --sklearn-color-fitted-level-2: #b3dbfd;\n",
       "  --sklearn-color-fitted-level-3: cornflowerblue;\n",
       "\n",
       "  /* Specific color for light theme */\n",
       "  --sklearn-color-text-on-default-background: var(--sg-text-color, var(--theme-code-foreground, var(--jp-content-font-color1, black)));\n",
       "  --sklearn-color-background: var(--sg-background-color, var(--theme-background, var(--jp-layout-color0, white)));\n",
       "  --sklearn-color-border-box: var(--sg-text-color, var(--theme-code-foreground, var(--jp-content-font-color1, black)));\n",
       "  --sklearn-color-icon: #696969;\n",
       "\n",
       "  @media (prefers-color-scheme: dark) {\n",
       "    /* Redefinition of color scheme for dark theme */\n",
       "    --sklearn-color-text-on-default-background: var(--sg-text-color, var(--theme-code-foreground, var(--jp-content-font-color1, white)));\n",
       "    --sklearn-color-background: var(--sg-background-color, var(--theme-background, var(--jp-layout-color0, #111)));\n",
       "    --sklearn-color-border-box: var(--sg-text-color, var(--theme-code-foreground, var(--jp-content-font-color1, white)));\n",
       "    --sklearn-color-icon: #878787;\n",
       "  }\n",
       "}\n",
       "\n",
       "#sk-container-id-1 {\n",
       "  color: var(--sklearn-color-text);\n",
       "}\n",
       "\n",
       "#sk-container-id-1 pre {\n",
       "  padding: 0;\n",
       "}\n",
       "\n",
       "#sk-container-id-1 input.sk-hidden--visually {\n",
       "  border: 0;\n",
       "  clip: rect(1px 1px 1px 1px);\n",
       "  clip: rect(1px, 1px, 1px, 1px);\n",
       "  height: 1px;\n",
       "  margin: -1px;\n",
       "  overflow: hidden;\n",
       "  padding: 0;\n",
       "  position: absolute;\n",
       "  width: 1px;\n",
       "}\n",
       "\n",
       "#sk-container-id-1 div.sk-dashed-wrapped {\n",
       "  border: 1px dashed var(--sklearn-color-line);\n",
       "  margin: 0 0.4em 0.5em 0.4em;\n",
       "  box-sizing: border-box;\n",
       "  padding-bottom: 0.4em;\n",
       "  background-color: var(--sklearn-color-background);\n",
       "}\n",
       "\n",
       "#sk-container-id-1 div.sk-container {\n",
       "  /* jupyter's `normalize.less` sets `[hidden] { display: none; }`\n",
       "     but bootstrap.min.css set `[hidden] { display: none !important; }`\n",
       "     so we also need the `!important` here to be able to override the\n",
       "     default hidden behavior on the sphinx rendered scikit-learn.org.\n",
       "     See: https://github.com/scikit-learn/scikit-learn/issues/21755 */\n",
       "  display: inline-block !important;\n",
       "  position: relative;\n",
       "}\n",
       "\n",
       "#sk-container-id-1 div.sk-text-repr-fallback {\n",
       "  display: none;\n",
       "}\n",
       "\n",
       "div.sk-parallel-item,\n",
       "div.sk-serial,\n",
       "div.sk-item {\n",
       "  /* draw centered vertical line to link estimators */\n",
       "  background-image: linear-gradient(var(--sklearn-color-text-on-default-background), var(--sklearn-color-text-on-default-background));\n",
       "  background-size: 2px 100%;\n",
       "  background-repeat: no-repeat;\n",
       "  background-position: center center;\n",
       "}\n",
       "\n",
       "/* Parallel-specific style estimator block */\n",
       "\n",
       "#sk-container-id-1 div.sk-parallel-item::after {\n",
       "  content: \"\";\n",
       "  width: 100%;\n",
       "  border-bottom: 2px solid var(--sklearn-color-text-on-default-background);\n",
       "  flex-grow: 1;\n",
       "}\n",
       "\n",
       "#sk-container-id-1 div.sk-parallel {\n",
       "  display: flex;\n",
       "  align-items: stretch;\n",
       "  justify-content: center;\n",
       "  background-color: var(--sklearn-color-background);\n",
       "  position: relative;\n",
       "}\n",
       "\n",
       "#sk-container-id-1 div.sk-parallel-item {\n",
       "  display: flex;\n",
       "  flex-direction: column;\n",
       "}\n",
       "\n",
       "#sk-container-id-1 div.sk-parallel-item:first-child::after {\n",
       "  align-self: flex-end;\n",
       "  width: 50%;\n",
       "}\n",
       "\n",
       "#sk-container-id-1 div.sk-parallel-item:last-child::after {\n",
       "  align-self: flex-start;\n",
       "  width: 50%;\n",
       "}\n",
       "\n",
       "#sk-container-id-1 div.sk-parallel-item:only-child::after {\n",
       "  width: 0;\n",
       "}\n",
       "\n",
       "/* Serial-specific style estimator block */\n",
       "\n",
       "#sk-container-id-1 div.sk-serial {\n",
       "  display: flex;\n",
       "  flex-direction: column;\n",
       "  align-items: center;\n",
       "  background-color: var(--sklearn-color-background);\n",
       "  padding-right: 1em;\n",
       "  padding-left: 1em;\n",
       "}\n",
       "\n",
       "\n",
       "/* Toggleable style: style used for estimator/Pipeline/ColumnTransformer box that is\n",
       "clickable and can be expanded/collapsed.\n",
       "- Pipeline and ColumnTransformer use this feature and define the default style\n",
       "- Estimators will overwrite some part of the style using the `sk-estimator` class\n",
       "*/\n",
       "\n",
       "/* Pipeline and ColumnTransformer style (default) */\n",
       "\n",
       "#sk-container-id-1 div.sk-toggleable {\n",
       "  /* Default theme specific background. It is overwritten whether we have a\n",
       "  specific estimator or a Pipeline/ColumnTransformer */\n",
       "  background-color: var(--sklearn-color-background);\n",
       "}\n",
       "\n",
       "/* Toggleable label */\n",
       "#sk-container-id-1 label.sk-toggleable__label {\n",
       "  cursor: pointer;\n",
       "  display: block;\n",
       "  width: 100%;\n",
       "  margin-bottom: 0;\n",
       "  padding: 0.5em;\n",
       "  box-sizing: border-box;\n",
       "  text-align: center;\n",
       "}\n",
       "\n",
       "#sk-container-id-1 label.sk-toggleable__label-arrow:before {\n",
       "  /* Arrow on the left of the label */\n",
       "  content: \"▸\";\n",
       "  float: left;\n",
       "  margin-right: 0.25em;\n",
       "  color: var(--sklearn-color-icon);\n",
       "}\n",
       "\n",
       "#sk-container-id-1 label.sk-toggleable__label-arrow:hover:before {\n",
       "  color: var(--sklearn-color-text);\n",
       "}\n",
       "\n",
       "/* Toggleable content - dropdown */\n",
       "\n",
       "#sk-container-id-1 div.sk-toggleable__content {\n",
       "  max-height: 0;\n",
       "  max-width: 0;\n",
       "  overflow: hidden;\n",
       "  text-align: left;\n",
       "  /* unfitted */\n",
       "  background-color: var(--sklearn-color-unfitted-level-0);\n",
       "}\n",
       "\n",
       "#sk-container-id-1 div.sk-toggleable__content.fitted {\n",
       "  /* fitted */\n",
       "  background-color: var(--sklearn-color-fitted-level-0);\n",
       "}\n",
       "\n",
       "#sk-container-id-1 div.sk-toggleable__content pre {\n",
       "  margin: 0.2em;\n",
       "  border-radius: 0.25em;\n",
       "  color: var(--sklearn-color-text);\n",
       "  /* unfitted */\n",
       "  background-color: var(--sklearn-color-unfitted-level-0);\n",
       "}\n",
       "\n",
       "#sk-container-id-1 div.sk-toggleable__content.fitted pre {\n",
       "  /* unfitted */\n",
       "  background-color: var(--sklearn-color-fitted-level-0);\n",
       "}\n",
       "\n",
       "#sk-container-id-1 input.sk-toggleable__control:checked~div.sk-toggleable__content {\n",
       "  /* Expand drop-down */\n",
       "  max-height: 200px;\n",
       "  max-width: 100%;\n",
       "  overflow: auto;\n",
       "}\n",
       "\n",
       "#sk-container-id-1 input.sk-toggleable__control:checked~label.sk-toggleable__label-arrow:before {\n",
       "  content: \"▾\";\n",
       "}\n",
       "\n",
       "/* Pipeline/ColumnTransformer-specific style */\n",
       "\n",
       "#sk-container-id-1 div.sk-label input.sk-toggleable__control:checked~label.sk-toggleable__label {\n",
       "  color: var(--sklearn-color-text);\n",
       "  background-color: var(--sklearn-color-unfitted-level-2);\n",
       "}\n",
       "\n",
       "#sk-container-id-1 div.sk-label.fitted input.sk-toggleable__control:checked~label.sk-toggleable__label {\n",
       "  background-color: var(--sklearn-color-fitted-level-2);\n",
       "}\n",
       "\n",
       "/* Estimator-specific style */\n",
       "\n",
       "/* Colorize estimator box */\n",
       "#sk-container-id-1 div.sk-estimator input.sk-toggleable__control:checked~label.sk-toggleable__label {\n",
       "  /* unfitted */\n",
       "  background-color: var(--sklearn-color-unfitted-level-2);\n",
       "}\n",
       "\n",
       "#sk-container-id-1 div.sk-estimator.fitted input.sk-toggleable__control:checked~label.sk-toggleable__label {\n",
       "  /* fitted */\n",
       "  background-color: var(--sklearn-color-fitted-level-2);\n",
       "}\n",
       "\n",
       "#sk-container-id-1 div.sk-label label.sk-toggleable__label,\n",
       "#sk-container-id-1 div.sk-label label {\n",
       "  /* The background is the default theme color */\n",
       "  color: var(--sklearn-color-text-on-default-background);\n",
       "}\n",
       "\n",
       "/* On hover, darken the color of the background */\n",
       "#sk-container-id-1 div.sk-label:hover label.sk-toggleable__label {\n",
       "  color: var(--sklearn-color-text);\n",
       "  background-color: var(--sklearn-color-unfitted-level-2);\n",
       "}\n",
       "\n",
       "/* Label box, darken color on hover, fitted */\n",
       "#sk-container-id-1 div.sk-label.fitted:hover label.sk-toggleable__label.fitted {\n",
       "  color: var(--sklearn-color-text);\n",
       "  background-color: var(--sklearn-color-fitted-level-2);\n",
       "}\n",
       "\n",
       "/* Estimator label */\n",
       "\n",
       "#sk-container-id-1 div.sk-label label {\n",
       "  font-family: monospace;\n",
       "  font-weight: bold;\n",
       "  display: inline-block;\n",
       "  line-height: 1.2em;\n",
       "}\n",
       "\n",
       "#sk-container-id-1 div.sk-label-container {\n",
       "  text-align: center;\n",
       "}\n",
       "\n",
       "/* Estimator-specific */\n",
       "#sk-container-id-1 div.sk-estimator {\n",
       "  font-family: monospace;\n",
       "  border: 1px dotted var(--sklearn-color-border-box);\n",
       "  border-radius: 0.25em;\n",
       "  box-sizing: border-box;\n",
       "  margin-bottom: 0.5em;\n",
       "  /* unfitted */\n",
       "  background-color: var(--sklearn-color-unfitted-level-0);\n",
       "}\n",
       "\n",
       "#sk-container-id-1 div.sk-estimator.fitted {\n",
       "  /* fitted */\n",
       "  background-color: var(--sklearn-color-fitted-level-0);\n",
       "}\n",
       "\n",
       "/* on hover */\n",
       "#sk-container-id-1 div.sk-estimator:hover {\n",
       "  /* unfitted */\n",
       "  background-color: var(--sklearn-color-unfitted-level-2);\n",
       "}\n",
       "\n",
       "#sk-container-id-1 div.sk-estimator.fitted:hover {\n",
       "  /* fitted */\n",
       "  background-color: var(--sklearn-color-fitted-level-2);\n",
       "}\n",
       "\n",
       "/* Specification for estimator info (e.g. \"i\" and \"?\") */\n",
       "\n",
       "/* Common style for \"i\" and \"?\" */\n",
       "\n",
       ".sk-estimator-doc-link,\n",
       "a:link.sk-estimator-doc-link,\n",
       "a:visited.sk-estimator-doc-link {\n",
       "  float: right;\n",
       "  font-size: smaller;\n",
       "  line-height: 1em;\n",
       "  font-family: monospace;\n",
       "  background-color: var(--sklearn-color-background);\n",
       "  border-radius: 1em;\n",
       "  height: 1em;\n",
       "  width: 1em;\n",
       "  text-decoration: none !important;\n",
       "  margin-left: 1ex;\n",
       "  /* unfitted */\n",
       "  border: var(--sklearn-color-unfitted-level-1) 1pt solid;\n",
       "  color: var(--sklearn-color-unfitted-level-1);\n",
       "}\n",
       "\n",
       ".sk-estimator-doc-link.fitted,\n",
       "a:link.sk-estimator-doc-link.fitted,\n",
       "a:visited.sk-estimator-doc-link.fitted {\n",
       "  /* fitted */\n",
       "  border: var(--sklearn-color-fitted-level-1) 1pt solid;\n",
       "  color: var(--sklearn-color-fitted-level-1);\n",
       "}\n",
       "\n",
       "/* On hover */\n",
       "div.sk-estimator:hover .sk-estimator-doc-link:hover,\n",
       ".sk-estimator-doc-link:hover,\n",
       "div.sk-label-container:hover .sk-estimator-doc-link:hover,\n",
       ".sk-estimator-doc-link:hover {\n",
       "  /* unfitted */\n",
       "  background-color: var(--sklearn-color-unfitted-level-3);\n",
       "  color: var(--sklearn-color-background);\n",
       "  text-decoration: none;\n",
       "}\n",
       "\n",
       "div.sk-estimator.fitted:hover .sk-estimator-doc-link.fitted:hover,\n",
       ".sk-estimator-doc-link.fitted:hover,\n",
       "div.sk-label-container:hover .sk-estimator-doc-link.fitted:hover,\n",
       ".sk-estimator-doc-link.fitted:hover {\n",
       "  /* fitted */\n",
       "  background-color: var(--sklearn-color-fitted-level-3);\n",
       "  color: var(--sklearn-color-background);\n",
       "  text-decoration: none;\n",
       "}\n",
       "\n",
       "/* Span, style for the box shown on hovering the info icon */\n",
       ".sk-estimator-doc-link span {\n",
       "  display: none;\n",
       "  z-index: 9999;\n",
       "  position: relative;\n",
       "  font-weight: normal;\n",
       "  right: .2ex;\n",
       "  padding: .5ex;\n",
       "  margin: .5ex;\n",
       "  width: min-content;\n",
       "  min-width: 20ex;\n",
       "  max-width: 50ex;\n",
       "  color: var(--sklearn-color-text);\n",
       "  box-shadow: 2pt 2pt 4pt #999;\n",
       "  /* unfitted */\n",
       "  background: var(--sklearn-color-unfitted-level-0);\n",
       "  border: .5pt solid var(--sklearn-color-unfitted-level-3);\n",
       "}\n",
       "\n",
       ".sk-estimator-doc-link.fitted span {\n",
       "  /* fitted */\n",
       "  background: var(--sklearn-color-fitted-level-0);\n",
       "  border: var(--sklearn-color-fitted-level-3);\n",
       "}\n",
       "\n",
       ".sk-estimator-doc-link:hover span {\n",
       "  display: block;\n",
       "}\n",
       "\n",
       "/* \"?\"-specific style due to the `<a>` HTML tag */\n",
       "\n",
       "#sk-container-id-1 a.estimator_doc_link {\n",
       "  float: right;\n",
       "  font-size: 1rem;\n",
       "  line-height: 1em;\n",
       "  font-family: monospace;\n",
       "  background-color: var(--sklearn-color-background);\n",
       "  border-radius: 1rem;\n",
       "  height: 1rem;\n",
       "  width: 1rem;\n",
       "  text-decoration: none;\n",
       "  /* unfitted */\n",
       "  color: var(--sklearn-color-unfitted-level-1);\n",
       "  border: var(--sklearn-color-unfitted-level-1) 1pt solid;\n",
       "}\n",
       "\n",
       "#sk-container-id-1 a.estimator_doc_link.fitted {\n",
       "  /* fitted */\n",
       "  border: var(--sklearn-color-fitted-level-1) 1pt solid;\n",
       "  color: var(--sklearn-color-fitted-level-1);\n",
       "}\n",
       "\n",
       "/* On hover */\n",
       "#sk-container-id-1 a.estimator_doc_link:hover {\n",
       "  /* unfitted */\n",
       "  background-color: var(--sklearn-color-unfitted-level-3);\n",
       "  color: var(--sklearn-color-background);\n",
       "  text-decoration: none;\n",
       "}\n",
       "\n",
       "#sk-container-id-1 a.estimator_doc_link.fitted:hover {\n",
       "  /* fitted */\n",
       "  background-color: var(--sklearn-color-fitted-level-3);\n",
       "}\n",
       "</style><div id=\"sk-container-id-1\" class=\"sk-top-container\"><div class=\"sk-text-repr-fallback\"><pre>XGBClassifier(base_score=None, booster=None, callbacks=None,\n",
       "              colsample_bylevel=None, colsample_bynode=None,\n",
       "              colsample_bytree=None, device=None, early_stopping_rounds=None,\n",
       "              enable_categorical=False, eval_metric=&#x27;auc&#x27;, feature_types=None,\n",
       "              gamma=None, grow_policy=None, importance_type=None,\n",
       "              interaction_constraints=None, learning_rate=0.1, max_bin=None,\n",
       "              max_cat_threshold=None, max_cat_to_onehot=None,\n",
       "              max_delta_step=None, max_depth=11, max_leaves=None,\n",
       "              min_child_weight=None, missing=nan, monotone_constraints=None,\n",
       "              multi_strategy=None, n_estimators=100, n_jobs=None,\n",
       "              num_parallel_tree=None, random_state=42, ...)</pre><b>In a Jupyter environment, please rerun this cell to show the HTML representation or trust the notebook. <br />On GitHub, the HTML representation is unable to render, please try loading this page with nbviewer.org.</b></div><div class=\"sk-container\" hidden><div class=\"sk-item\"><div class=\"sk-estimator fitted sk-toggleable\"><input class=\"sk-toggleable__control sk-hidden--visually\" id=\"sk-estimator-id-1\" type=\"checkbox\" checked><label for=\"sk-estimator-id-1\" class=\"sk-toggleable__label fitted sk-toggleable__label-arrow fitted\">&nbsp;XGBClassifier<span class=\"sk-estimator-doc-link fitted\">i<span>Fitted</span></span></label><div class=\"sk-toggleable__content fitted\"><pre>XGBClassifier(base_score=None, booster=None, callbacks=None,\n",
       "              colsample_bylevel=None, colsample_bynode=None,\n",
       "              colsample_bytree=None, device=None, early_stopping_rounds=None,\n",
       "              enable_categorical=False, eval_metric=&#x27;auc&#x27;, feature_types=None,\n",
       "              gamma=None, grow_policy=None, importance_type=None,\n",
       "              interaction_constraints=None, learning_rate=0.1, max_bin=None,\n",
       "              max_cat_threshold=None, max_cat_to_onehot=None,\n",
       "              max_delta_step=None, max_depth=11, max_leaves=None,\n",
       "              min_child_weight=None, missing=nan, monotone_constraints=None,\n",
       "              multi_strategy=None, n_estimators=100, n_jobs=None,\n",
       "              num_parallel_tree=None, random_state=42, ...)</pre></div> </div></div></div></div>"
      ],
      "text/plain": [
       "XGBClassifier(base_score=None, booster=None, callbacks=None,\n",
       "              colsample_bylevel=None, colsample_bynode=None,\n",
       "              colsample_bytree=None, device=None, early_stopping_rounds=None,\n",
       "              enable_categorical=False, eval_metric='auc', feature_types=None,\n",
       "              gamma=None, grow_policy=None, importance_type=None,\n",
       "              interaction_constraints=None, learning_rate=0.1, max_bin=None,\n",
       "              max_cat_threshold=None, max_cat_to_onehot=None,\n",
       "              max_delta_step=None, max_depth=11, max_leaves=None,\n",
       "              min_child_weight=None, missing=nan, monotone_constraints=None,\n",
       "              multi_strategy=None, n_estimators=100, n_jobs=None,\n",
       "              num_parallel_tree=None, random_state=42, ...)"
      ]
     },
     "execution_count": 8,
     "metadata": {},
     "output_type": "execute_result"
    }
   ],
   "source": [
    "bst.fit(X_train, y_train)"
   ]
  },
  {
   "cell_type": "code",
   "execution_count": null,
   "id": "c174f8ee",
   "metadata": {},
   "outputs": [],
   "source": [
    "# GridSearchCV of Logistic Regression\n",
    "#from sklearn.linear_model import LogisticRegression\n",
    "#from sklearn.model_selection import GridSearchCV\n",
    "\n",
    "#class_weights = {0.0: 1, 1.0: ratio}\n",
    "\n",
    "#params = {\n",
    "#    'penalty': ['l1', 'l2', 'elasticnet'],\n",
    "#    'C': [0.01, 0.1, 1, 10, 100],\n",
    "#    'fit_intercept': [True, False],\n",
    "#    'solver': ['lbfgs', 'liblinear', 'newton-cholesky', 'sag', 'saga'],\n",
    "    # 'class_weight': [class_weights, 'balanced', None]\n",
    "#}\n",
    "#grid_search = GridSearchCV(estimator=LogisticRegression(random_state=42), param_grid=params, cv=5, scoring='roc_auc')\n",
    "#grid_search.fit(X_train, y_train)\n",
    "#best_params = grid_search.best_params_\n",
    "#best_params"
   ]
  },
  {
   "cell_type": "code",
   "execution_count": null,
   "id": "f961dc05",
   "metadata": {},
   "outputs": [],
   "source": [
    "from sklearn.linear_model import LogisticRegression\n",
    "\n",
    "class_weights = {0.0: 1, 1.0: ratio}\n",
    "\n",
    "best_params = {'C': 0.1,\n",
    " # 'class_weight': None,\n",
    " 'fit_intercept': True,\n",
    " 'penalty': 'l1',\n",
    "'solver': 'liblinear'}\n",
    "\n",
    "clf = LogisticRegression(**best_params, random_state=42, class_weight=class_weights)"
   ]
  },
  {
   "cell_type": "code",
   "execution_count": null,
   "id": "0d9c060b-93f5-4d7e-a5c8-99e884b16bc6",
   "metadata": {},
   "outputs": [],
   "source": [
    "clf.fit(X_train, y_train)"
   ]
  },
  {
   "cell_type": "markdown",
   "id": "8531900c-67b0-4df6-9fb0-e1d00f60c737",
   "metadata": {},
   "source": [
    "## Evaluation"
   ]
  },
  {
   "cell_type": "markdown",
   "id": "b2272c27",
   "metadata": {},
   "source": [
    "### Logistic Regression"
   ]
  },
  {
   "cell_type": "code",
   "execution_count": null,
   "id": "a8c390d6-e021-4bdd-a744-0572c8a8e2e7",
   "metadata": {},
   "outputs": [],
   "source": [
    "clf_train_preds = clf.predict(X_train)"
   ]
  },
  {
   "cell_type": "code",
   "execution_count": null,
   "id": "01920379",
   "metadata": {},
   "outputs": [],
   "source": [
    "fpr, tpr, thresholds = metrics.roc_curve(y_train, clf_train_preds)\n",
    "auc = metrics.auc(fpr, tpr)\n",
    "auc"
   ]
  },
  {
   "cell_type": "code",
   "execution_count": null,
   "id": "aad84886",
   "metadata": {},
   "outputs": [],
   "source": [
    "plt.figure(figsize=(8, 6))\n",
    "plt.plot(fpr, tpr, color='blue', label=f'ROC curve (AUC = {auc:.2f})')\n",
    "plt.plot([0, 1], [0, 1], color='gray', linestyle='--')  # Diagonal line for random classifier\n",
    "plt.xlim([0.0, 1.0])\n",
    "plt.ylim([0.0, 1.05])\n",
    "plt.xlabel('False Positive Rate (FPR)')\n",
    "plt.ylabel('True Positive Rate (TPR)')\n",
    "plt.title('Receiver Operating Characteristic (ROC) Curve')\n",
    "plt.legend(loc=\"lower right\")\n",
    "plt.show()"
   ]
  },
  {
   "cell_type": "code",
   "execution_count": null,
   "id": "a5a452e3",
   "metadata": {},
   "outputs": [],
   "source": [
    "val_preds = rf = clf.predict(X_test)"
   ]
  },
  {
   "cell_type": "code",
   "execution_count": null,
   "id": "2edb5423",
   "metadata": {},
   "outputs": [],
   "source": [
    "fpr, tpr, thresholds = metrics.roc_curve(y_test, val_preds)\n",
    "auc = metrics.auc(fpr, tpr)\n",
    "auc"
   ]
  },
  {
   "cell_type": "code",
   "execution_count": null,
   "id": "ea42cd31",
   "metadata": {},
   "outputs": [],
   "source": [
    "plt.figure(figsize=(8, 6))\n",
    "plt.plot(fpr, tpr, color='blue', label=f'ROC curve (AUC = {auc:.2f})')\n",
    "plt.plot([0, 1], [0, 1], color='gray', linestyle='--')  # Diagonal line for random classifier\n",
    "plt.xlim([0.0, 1.0])\n",
    "plt.ylim([0.0, 1.05])\n",
    "plt.xlabel('False Positive Rate (FPR)')\n",
    "plt.ylabel('True Positive Rate (TPR)')\n",
    "plt.title('Receiver Operating Characteristic (ROC) Curve')\n",
    "plt.legend(loc=\"lower right\")\n",
    "plt.show()"
   ]
  },
  {
   "cell_type": "markdown",
   "id": "2cda8c71",
   "metadata": {},
   "source": [
    "### XGBoost"
   ]
  },
  {
   "cell_type": "code",
   "execution_count": 9,
   "id": "cb071daa-fa3f-4f02-9c6f-fa486a53f56d",
   "metadata": {},
   "outputs": [],
   "source": [
    "train_preds = bst.predict(X_train)"
   ]
  },
  {
   "cell_type": "code",
   "execution_count": 10,
   "id": "00efda5e-ee11-48f1-9d46-c8aa84a5da54",
   "metadata": {},
   "outputs": [
    {
     "data": {
      "text/plain": [
       "np.float64(0.9195509835766731)"
      ]
     },
     "execution_count": 10,
     "metadata": {},
     "output_type": "execute_result"
    }
   ],
   "source": [
    "fpr, tpr, thresholds = metrics.roc_curve(y_train, train_preds)\n",
    "auc = metrics.auc(fpr, tpr)\n",
    "auc"
   ]
  },
  {
   "cell_type": "code",
   "execution_count": 11,
   "id": "29270649",
   "metadata": {},
   "outputs": [
    {
     "data": {
      "image/png": "[encoded data removed]",
      "text/plain": [
       "<Figure size 800x600 with 1 Axes>"
      ]
     },
     "metadata": {},
     "output_type": "display_data"
    }
   ],
   "source": [
    "plt.figure(figsize=(8, 6))\n",
    "plt.plot(fpr, tpr, color='blue', label=f'ROC curve (AUC = {auc:.2f})')\n",
    "plt.plot([0, 1], [0, 1], color='gray', linestyle='--')  # Diagonal line for random classifier\n",
    "plt.xlim([0.0, 1.0])\n",
    "plt.ylim([0.0, 1.05])\n",
    "plt.xlabel('False Positive Rate (FPR)')\n",
    "plt.ylabel('True Positive Rate (TPR)')\n",
    "plt.title('Receiver Operating Characteristic (ROC) Curve')\n",
    "plt.legend(loc=\"lower right\")\n",
    "plt.show()"
   ]
  },
  {
   "cell_type": "code",
   "execution_count": 12,
   "id": "3a0fa0fe-f291-4347-9150-6d660ccc46a7",
   "metadata": {},
   "outputs": [],
   "source": [
    "val_preds = bst.predict(X_test)"
   ]
  },
  {
   "cell_type": "code",
   "execution_count": 13,
   "id": "905722a0-2b77-4746-879f-03cc2ffdf048",
   "metadata": {},
   "outputs": [
    {
     "data": {
      "text/plain": [
       "np.float64(0.6733612086975613)"
      ]
     },
     "execution_count": 13,
     "metadata": {},
     "output_type": "execute_result"
    }
   ],
   "source": [
    "fpr, tpr, thresholds = metrics.roc_curve(y_test, val_preds)\n",
    "auc = metrics.auc(fpr, tpr)\n",
    "auc"
   ]
  },
  {
   "cell_type": "code",
   "execution_count": null,
   "id": "362d7564-a5b8-48a8-a4f1-7997bd549fe7",
   "metadata": {},
   "outputs": [],
   "source": [
    "plt.figure(figsize=(8, 6))\n",
    "plt.plot(fpr, tpr, color='blue', label=f'ROC curve (AUC = {auc:.2f})')\n",
    "plt.plot([0, 1], [0, 1], color='gray', linestyle='--')  # Diagonal line for random classifier\n",
    "plt.xlim([0.0, 1.0])\n",
    "plt.ylim([0.0, 1.05])\n",
    "plt.xlabel('False Positive Rate (FPR)')\n",
    "plt.ylabel('True Positive Rate (TPR)')\n",
    "plt.title('Receiver Operating Characteristic (ROC) Curve')\n",
    "plt.legend(loc=\"lower right\")\n",
    "plt.show()"
   ]
  },
  {
   "cell_type": "markdown",
   "id": "79ed22e6-e479-483b-ae67-1f9adc97134a",
   "metadata": {},
   "source": [
    "## Estimation + writing to file"
   ]
  },
  {
   "cell_type": "code",
   "execution_count": null,
   "id": "8e6834d2-49c7-4d02-a1b2-f857c94c3901",
   "metadata": {},
   "outputs": [],
   "source": [
    "test_df = pl.read_csv('data/test_smiles.csv')\n",
    "test_df"
   ]
  },
  {
   "cell_type": "code",
   "execution_count": null,
   "id": "2d9686a5-e9ec-47d3-9a8f-32183284c408",
   "metadata": {},
   "outputs": [],
   "source": [
    "test_df = test_df.with_columns([\n",
    "    pl.col(\"SMILES\").map_elements(lambda x: calculate_all_features(x)[0], return_dtype=pl.Float64).alias(features[0]),\n",
    "    pl.col(\"SMILES\").map_elements(lambda x: calculate_all_features(x)[1], return_dtype=pl.Int64).alias(features[1]),\n",
    "    pl.col(\"SMILES\").map_elements(lambda x: calculate_all_features(x)[2], return_dtype=pl.Int64).alias(features[2]),\n",
    "    pl.col(\"SMILES\").map_elements(lambda x: calculate_all_features(x)[3], return_dtype=pl.Float64).alias(features[3]),\n",
    "    pl.col(\"SMILES\").map_elements(lambda x: calculate_all_features(x)[4], return_dtype=pl.Float64).alias(features[4]),\n",
    "    pl.col(\"SMILES\").map_elements(lambda x: calculate_all_features(x)[5], return_dtype=pl.Int64).alias(features[5]),\n",
    "    pl.col(\"SMILES\").map_elements(lambda x: calculate_all_features(x)[6], return_dtype=pl.Int64).alias(features[6]),\n",
    "    # pl.col(\"SMILES\").map_elements(lambda x: calculate_all_features(x)[3], return_dtype=pl.String).alias(\"MorganFingerprints\")\n",
    "])"
   ]
  },
  {
   "cell_type": "code",
   "execution_count": null,
   "id": "3c4a8eea-b19b-4174-a914-93aac760289a",
   "metadata": {},
   "outputs": [],
   "source": [
    "train_preds = bst.predict_proba(test_df[features])"
   ]
  },
  {
   "cell_type": "markdown",
   "id": "c0c31e90-bd62-4e31-8068-e1df499e589c",
   "metadata": {},
   "source": [
    "We have excluded a part of the training set to be our validation set, and we thus expect the AUC in the test set to match it. Based on our best performing model - the XGBooster model, the value should be **0.5944**."
   ]
  },
  {
   "cell_type": "code",
   "execution_count": null,
   "id": "63550628-239d-4408-9ba6-76d46547ac5f",
   "metadata": {},
   "outputs": [],
   "source": [
    "## Alternatively, we can look at the OOB performance - but it might benefit from overfitting, \n",
    "# due to it not being fully indepedent (in contrast to validation set performance).\n",
    "best_params = {'learning_rate': 0.1,\n",
    " 'max_depth': 11,\n",
    " 'n_estimators': 50,\n",
    " 'objective': 'binary:logistic'}\n",
    "\n",
    "bst = XGBClassifier(\n",
    "    **best_params,\n",
    "    scale_pos_weight=ratio,\n",
    "    random_state=42,\n",
    "    eval_metric='auc',\n",
    "    # enable_categorical=True,  # Enable categorical features\n",
    "    subsample=0.8,\n",
    ")\n",
    "\n",
    "bst.fit(X_train, y_train)"
   ]
  },
  {
   "cell_type": "code",
   "execution_count": null,
   "id": "601c73dd-c900-44f3-b5ad-b49e992555a9",
   "metadata": {},
   "outputs": [],
   "source": [
    "from sklearn.metrics import roc_auc_score\n",
    "oob_predictions = bst.predict_proba(X_train)[:, 1]\n",
    "oob_auc = roc_auc_score(y_train, oob_predictions)\n",
    "print(f\"Training OOB AUC-ROC: {oob_auc}\")"
   ]
  },
  {
   "cell_type": "code",
   "execution_count": null,
   "id": "582bcc34-2011-44bb-9b6c-a8ea66dc8f49",
   "metadata": {},
   "outputs": [],
   "source": [
    "from sklearn.metrics import roc_auc_score\n",
    "val_oob_predictions = bst.predict_proba(X_test)[:, 1]\n",
    "val_oob_auc = roc_auc_score(y_test, val_oob_predictions)\n",
    "print(f\"Validation OOB AUC-ROC: {val_oob_auc}\")"
   ]
  },
  {
   "cell_type": "markdown",
   "id": "c651dd2b-3faa-45e9-bbc1-1bc9b9dc0227",
   "metadata": {},
   "source": [
    "### Writing to file"
   ]
  },
  {
   "cell_type": "code",
   "execution_count": null,
   "id": "bad2024a-3a11-4a9e-b7d3-2c5732c47e43",
   "metadata": {},
   "outputs": [],
   "source": [
    "with open(\"10.txt\", \"w\") as f:\n",
    "    f.write(f\"{auc}\\n\")\n",
    "    for pred in train_preds:\n",
    "        positive_pred = pred[1]\n",
    "        f.write(f\"{positive_pred}\\n\")"
   ]
  },
  {
   "cell_type": "code",
   "execution_count": null,
   "id": "12fbb849-1c99-471b-961b-507e4a62b1ba",
   "metadata": {},
   "outputs": [],
   "source": [
    "predictions_df = pd.read_csv(\"10.txt\", header=None)\n",
    "assert predictions_df.shape == (69646+1, 1)\n",
    "assert np.all((predictions_df.values >= 0) & (predictions_df.values <= 1))"
   ]
  },
  {
   "cell_type": "code",
   "execution_count": null,
   "id": "9440d2ec",
   "metadata": {},
   "outputs": [],
   "source": []
  }
 ],
 "metadata": {
  "kernelspec": {
   "display_name": "Python 3 (ipykernel)",
   "language": "python",
   "name": "python3"
  },
  "language_info": {
   "codemirror_mode": {
    "name": "ipython",
    "version": 3
   },
   "file_extension": ".py",
   "mimetype": "text/x-python",
   "name": "python",
   "nbconvert_exporter": "python",
   "pygments_lexer": "ipython3",
   "version": "3.11.9"
  }
 },
 "nbformat": 4,
 "nbformat_minor": 5
}
