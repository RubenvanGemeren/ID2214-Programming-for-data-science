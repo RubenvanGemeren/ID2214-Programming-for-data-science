{
 "cells": [
  {
   "cell_type": "code",
   "execution_count": null,
   "id": "aa017181-a955-45f7-8174-7b227466fc82",
   "metadata": {},
   "outputs": [],
   "source": [
    "import pandas as pd\n",
    "import polars as pl\n",
    "import numpy as np\n",
    "import matplotlib.pyplot as plt\n",
    "\n",
    "from rdkit import Chem\n",
    "from sklearn import metrics"
   ]
  },
  {
   "cell_type": "code",
   "execution_count": null,
   "id": "4cac373a-3ac2-42e6-ab5a-bbe2f9a76c8b",
   "metadata": {},
   "outputs": [],
   "source": [
    "training_df = pl.read_csv('data/training_smiles.csv')"
   ]
  },
  {
   "cell_type": "markdown",
   "id": "000eb7db-63f9-4654-bae4-4ba255f2e85b",
   "metadata": {},
   "source": [
    "## Feature engineering"
   ]
  },
  {
   "cell_type": "code",
   "execution_count": null,
   "id": "c3b11560",
   "metadata": {},
   "outputs": [],
   "source": [
    "features = [\"MolWeight\", \"Fragments\", \"Lipinski-HAcount\", \"LogP\", \"TPSA\", \"HBD\", \"HBA\"]"
   ]
  },
  {
   "cell_type": "code",
   "execution_count": null,
   "id": "03c63979-6d0d-4697-8f95-b528c316336d",
   "metadata": {},
   "outputs": [],
   "source": [
    "from rdkit.Chem import rdMolDescriptors as d\n",
    "import rdkit.Chem.Fragments as f\n",
    "from rdkit.Chem import Lipinski as l\n",
    "from rdkit.Chem.rdFingerprintGenerator import GetMorganGenerator\n",
    "# from rdkit.Chem import rdFingerprintGenerator\n",
    "\n",
    "# Define a function to calculate all features\n",
    "def calculate_all_features(smiles):\n",
    "    # generator = GetMorganGenerator(radius=2, fpSize=1024)\n",
    "\n",
    "    mol = Chem.MolFromSmiles(smiles)\n",
    "    if mol is None:\n",
    "        return None, None, None# , None\n",
    "    \n",
    "    mol_weight = d.CalcExactMolWt(mol)\n",
    "    #print(f\"molwt {mol_weight}\")\n",
    "    fragments = f.fr_Al_COO(mol)\n",
    "    #print(f\"fragments {fragments}\")\n",
    "    lipinski = l.HeavyAtomCount(mol)\n",
    "    #print(f\"lipinski {lipinski}\")\n",
    "    logp, _ = d.CalcCrippenDescriptors(mol)\n",
    "    #print(f\"logp {logp}\")\n",
    "    tpsa = d.CalcTPSA(mol)\n",
    "    #print(f\"tpsa {tpsa}\")\n",
    "    hbd = d.CalcNumHBD(mol)\n",
    "    #print(f\"hbd {hbd}\")\n",
    "    hba = d.CalcNumHBA(mol)\n",
    "    #print(f\"hba {hba}\")\n",
    "    \n",
    "    # fingerprint = np.array(generator.GetFingerprint(mol))\n",
    "\n",
    "    return mol_weight, fragments, lipinski, logp, tpsa, hbd, hba # , fingerprint\n",
    "\n",
    "# Apply the function to the SMILES column and unpack the results\n",
    "training_df = training_df.with_columns([\n",
    "    pl.col(\"SMILES\").map_elements(lambda x: calculate_all_features(x)[0], return_dtype=pl.Float64).alias(features[0]),\n",
    "    pl.col(\"SMILES\").map_elements(lambda x: calculate_all_features(x)[1], return_dtype=pl.Int64).alias(features[1]),\n",
    "    pl.col(\"SMILES\").map_elements(lambda x: calculate_all_features(x)[2], return_dtype=pl.Int64).alias(features[2]),\n",
    "    pl.col(\"SMILES\").map_elements(lambda x: calculate_all_features(x)[3], return_dtype=pl.Float64).alias(features[3]),\n",
    "    pl.col(\"SMILES\").map_elements(lambda x: calculate_all_features(x)[4], return_dtype=pl.Float64).alias(features[4]),\n",
    "    pl.col(\"SMILES\").map_elements(lambda x: calculate_all_features(x)[5], return_dtype=pl.Int64).alias(features[5]),\n",
    "    pl.col(\"SMILES\").map_elements(lambda x: calculate_all_features(x)[6], return_dtype=pl.Int64).alias(features[6]),\n",
    "    # pl.col(\"SMILES\").map_elements(lambda x: calculate_all_features(x)[3], return_dtype=pl.String).alias(\"MorganFingerprints\")\n",
    "])"
   ]
  },
  {
   "cell_type": "code",
   "execution_count": null,
   "id": "cae1bf3f-c817-48eb-815f-1f1241999cfd",
   "metadata": {},
   "outputs": [],
   "source": [
    "training_df.select(features)"
   ]
  },
  {
   "cell_type": "code",
   "execution_count": null,
   "id": "f0920dfd",
   "metadata": {},
   "outputs": [],
   "source": [
    "training_df.select(features).corr()"
   ]
  },
  {
   "cell_type": "code",
   "execution_count": null,
   "id": "70228ab2-d030-475a-b5b4-da00838d28c1",
   "metadata": {},
   "outputs": [],
   "source": [
    "# Optional: Save the training features df\n",
    "training_df.write_parquet(\"enriched_training_df.parquet\")"
   ]
  },
  {
   "cell_type": "markdown",
   "id": "f97409a0-be77-45b7-9275-eb134c120936",
   "metadata": {},
   "source": [
    "## Make prediction"
   ]
  },
  {
   "cell_type": "code",
   "execution_count": null,
   "id": "29fe93dd-7c7a-4953-ac34-734e0906a650",
   "metadata": {},
   "outputs": [],
   "source": [
    "from sklearn.model_selection import train_test_split\n",
    "\n",
    "X = training_df[features]\n",
    "y = training_df[['ACTIVE']]\n",
    "\n",
    "X_train, X_test, y_train, y_test = train_test_split(X, y, test_size=.2, stratify=y)"
   ]
  },
  {
   "cell_type": "code",
   "execution_count": null,
   "id": "d5478b52-9148-4f2c-af12-6dc984f8d146",
   "metadata": {},
   "outputs": [],
   "source": [
    "value_counts = training_df['ACTIVE'].value_counts()\n",
    "print(\"Raw counts:\")\n",
    "print(value_counts)\n",
    "\n",
    "# Actual ratio\n",
    "ratio = (value_counts.filter(pl.col(\"ACTIVE\") == 0.0)[\"count\"] / value_counts.filter(pl.col(\"ACTIVE\") == 1.0)[\"count\"]).item()\n",
    "print(\"\\nCalculated ratio (negative/positive):\")\n",
    "print(ratio)"
   ]
  },
  {
   "cell_type": "code",
   "execution_count": null,
   "id": "d032ff0d-9dc8-4661-ad10-f89243be9192",
   "metadata": {},
   "outputs": [],
   "source": [
    "# Use GridSearchCV to find the best parameters for XGBoost\n",
    "from sklearn.model_selection import GridSearchCV\n",
    "from xgboost import XGBClassifier\n",
    "\n",
    "params = {\n",
    "    'max_depth': [3, 5, 7, 9, 11],\n",
    "    'learning_rate': [0.01, 0.1, 1],\n",
    "    'n_estimators': [5, 10, 20, 50, 100],\n",
    "    # 'scale_pos_weight': [1, ratio],\n",
    "    'objective': ['binary:logistic', 'binary:hinge', 'binary:logitraw']\n",
    "}\n",
    "grid_search = GridSearchCV(estimator=XGBClassifier(random_state=42, eval_metric='auc'), param_grid=params, cv=5, scoring='roc_auc')\n",
    "grid_search.fit(X_train, y_train)\n",
    "best_params = grid_search.best_params_\n",
    "best_params"
   ]
  },
  {
   "cell_type": "code",
   "execution_count": null,
   "id": "3129d080-d589-4def-ac9e-3e2667a4aa57",
   "metadata": {},
   "outputs": [],
   "source": [
    "from xgboost import XGBClassifier\n",
    "\n",
    "best_params = {'learning_rate': 0.1,\n",
    " 'max_depth': 11,\n",
    " 'n_estimators': 100,\n",
    " 'objective': 'binary:logistic'}\n",
    "\n",
    "# Taken from https://xgboost.readthedocs.io/en/stable/get_started.html\n",
    "bst = XGBClassifier(\n",
    "    **best_params,\n",
    "    scale_pos_weight=ratio,\n",
    "    random_state=42,\n",
    "    eval_metric='auc'\n",
    ")"
   ]
  },
  {
   "cell_type": "code",
   "execution_count": null,
   "id": "0e1e28ac-8a9c-4de3-852f-1e8f9b1d92d1",
   "metadata": {},
   "outputs": [],
   "source": [
    "X_train, y_train"
   ]
  },
  {
   "cell_type": "code",
   "execution_count": null,
   "id": "38f7800d-43ce-452f-a572-e35fa7693b28",
   "metadata": {},
   "outputs": [],
   "source": [
    "bst.fit(X_train, y_train)"
   ]
  },
  {
   "cell_type": "code",
   "execution_count": null,
   "id": "c174f8ee",
   "metadata": {},
   "outputs": [],
   "source": [
    "# GridSearchCV of Logistic Regression\n",
    "#from sklearn.linear_model import LogisticRegression\n",
    "#from sklearn.model_selection import GridSearchCV\n",
    "\n",
    "#class_weights = {0.0: 1, 1.0: ratio}\n",
    "\n",
    "#params = {\n",
    "#    'penalty': ['l1', 'l2', 'elasticnet'],\n",
    "#    'C': [0.01, 0.1, 1, 10, 100],\n",
    "#    'fit_intercept': [True, False],\n",
    "#    'solver': ['lbfgs', 'liblinear', 'newton-cholesky', 'sag', 'saga'],\n",
    "    # 'class_weight': [class_weights, 'balanced', None]\n",
    "#}\n",
    "#grid_search = GridSearchCV(estimator=LogisticRegression(random_state=42), param_grid=params, cv=5, scoring='roc_auc')\n",
    "#grid_search.fit(X_train, y_train)\n",
    "#best_params = grid_search.best_params_\n",
    "#best_params"
   ]
  },
  {
   "cell_type": "code",
   "execution_count": null,
   "id": "f961dc05",
   "metadata": {},
   "outputs": [],
   "source": [
    "from sklearn.linear_model import LogisticRegression\n",
    "\n",
    "class_weights = {0.0: 1, 1.0: ratio}\n",
    "\n",
    "best_params = {'C': 0.1,\n",
    " # 'class_weight': None,\n",
    " 'fit_intercept': True,\n",
    " 'penalty': 'l1',\n",
    "'solver': 'liblinear'}\n",
    "\n",
    "clf = LogisticRegression(**best_params, random_state=42, class_weight=class_weights)"
   ]
  },
  {
   "cell_type": "code",
   "execution_count": null,
   "id": "0d9c060b-93f5-4d7e-a5c8-99e884b16bc6",
   "metadata": {},
   "outputs": [],
   "source": [
    "clf.fit(X_train, y_train)"
   ]
  },
  {
   "cell_type": "markdown",
   "id": "8531900c-67b0-4df6-9fb0-e1d00f60c737",
   "metadata": {},
   "source": [
    "## Evaluation"
   ]
  },
  {
   "cell_type": "markdown",
   "id": "b2272c27",
   "metadata": {},
   "source": [
    "### Logistic Regression"
   ]
  },
  {
   "cell_type": "code",
   "execution_count": null,
   "id": "a8c390d6-e021-4bdd-a744-0572c8a8e2e7",
   "metadata": {},
   "outputs": [],
   "source": [
    "clf_train_preds = clf.predict(X_train)"
   ]
  },
  {
   "cell_type": "code",
   "execution_count": null,
   "id": "01920379",
   "metadata": {},
   "outputs": [],
   "source": [
    "fpr, tpr, thresholds = metrics.roc_curve(y_train, clf_train_preds)\n",
    "auc = metrics.auc(fpr, tpr)\n",
    "auc"
   ]
  },
  {
   "cell_type": "code",
   "execution_count": null,
   "id": "aad84886",
   "metadata": {},
   "outputs": [],
   "source": [
    "plt.figure(figsize=(8, 6))\n",
    "plt.plot(fpr, tpr, color='blue', label=f'ROC curve (AUC = {auc:.2f})')\n",
    "plt.plot([0, 1], [0, 1], color='gray', linestyle='--')  # Diagonal line for random classifier\n",
    "plt.xlim([0.0, 1.0])\n",
    "plt.ylim([0.0, 1.05])\n",
    "plt.xlabel('False Positive Rate (FPR)')\n",
    "plt.ylabel('True Positive Rate (TPR)')\n",
    "plt.title('Receiver Operating Characteristic (ROC) Curve')\n",
    "plt.legend(loc=\"lower right\")\n",
    "plt.show()"
   ]
  },
  {
   "cell_type": "code",
   "execution_count": null,
   "id": "a5a452e3",
   "metadata": {},
   "outputs": [],
   "source": [
    "val_preds = rf = clf.predict(X_test)"
   ]
  },
  {
   "cell_type": "code",
   "execution_count": null,
   "id": "2edb5423",
   "metadata": {},
   "outputs": [],
   "source": [
    "fpr, tpr, thresholds = metrics.roc_curve(y_test, val_preds)\n",
    "auc = metrics.auc(fpr, tpr)\n",
    "auc"
   ]
  },
  {
   "cell_type": "code",
   "execution_count": null,
   "id": "ea42cd31",
   "metadata": {},
   "outputs": [],
   "source": [
    "plt.figure(figsize=(8, 6))\n",
    "plt.plot(fpr, tpr, color='blue', label=f'ROC curve (AUC = {auc:.2f})')\n",
    "plt.plot([0, 1], [0, 1], color='gray', linestyle='--')  # Diagonal line for random classifier\n",
    "plt.xlim([0.0, 1.0])\n",
    "plt.ylim([0.0, 1.05])\n",
    "plt.xlabel('False Positive Rate (FPR)')\n",
    "plt.ylabel('True Positive Rate (TPR)')\n",
    "plt.title('Receiver Operating Characteristic (ROC) Curve')\n",
    "plt.legend(loc=\"lower right\")\n",
    "plt.show()"
   ]
  },
  {
   "cell_type": "markdown",
   "id": "2cda8c71",
   "metadata": {},
   "source": [
    "### XGBoost"
   ]
  },
  {
   "cell_type": "code",
   "execution_count": null,
   "id": "cb071daa-fa3f-4f02-9c6f-fa486a53f56d",
   "metadata": {},
   "outputs": [],
   "source": [
    "train_preds = bst.predict(X_train)"
   ]
  },
  {
   "cell_type": "code",
   "execution_count": null,
   "id": "00efda5e-ee11-48f1-9d46-c8aa84a5da54",
   "metadata": {},
   "outputs": [],
   "source": [
    "fpr, tpr, thresholds = metrics.roc_curve(y_train, train_preds)\n",
    "auc = metrics.auc(fpr, tpr)\n",
    "auc"
   ]
  },
  {
   "cell_type": "code",
   "execution_count": null,
   "id": "29270649",
   "metadata": {},
   "outputs": [],
   "source": [
    "plt.figure(figsize=(8, 6))\n",
    "plt.plot(fpr, tpr, color='blue', label=f'ROC curve (AUC = {auc:.2f})')\n",
    "plt.plot([0, 1], [0, 1], color='gray', linestyle='--')  # Diagonal line for random classifier\n",
    "plt.xlim([0.0, 1.0])\n",
    "plt.ylim([0.0, 1.05])\n",
    "plt.xlabel('False Positive Rate (FPR)')\n",
    "plt.ylabel('True Positive Rate (TPR)')\n",
    "plt.title('Receiver Operating Characteristic (ROC) Curve')\n",
    "plt.legend(loc=\"lower right\")\n",
    "plt.show()"
   ]
  },
  {
   "cell_type": "code",
   "execution_count": null,
   "id": "3a0fa0fe-f291-4347-9150-6d660ccc46a7",
   "metadata": {},
   "outputs": [],
   "source": [
    "val_preds = bst.predict(X_test)"
   ]
  },
  {
   "cell_type": "code",
   "execution_count": null,
   "id": "905722a0-2b77-4746-879f-03cc2ffdf048",
   "metadata": {},
   "outputs": [],
   "source": [
    "fpr, tpr, thresholds = metrics.roc_curve(y_test, val_preds)\n",
    "auc = metrics.auc(fpr, tpr)\n",
    "auc"
   ]
  },
  {
   "cell_type": "code",
   "execution_count": null,
   "id": "362d7564-a5b8-48a8-a4f1-7997bd549fe7",
   "metadata": {},
   "outputs": [],
   "source": [
    "plt.figure(figsize=(8, 6))\n",
    "plt.plot(fpr, tpr, color='blue', label=f'ROC curve (AUC = {auc:.2f})')\n",
    "plt.plot([0, 1], [0, 1], color='gray', linestyle='--')  # Diagonal line for random classifier\n",
    "plt.xlim([0.0, 1.0])\n",
    "plt.ylim([0.0, 1.05])\n",
    "plt.xlabel('False Positive Rate (FPR)')\n",
    "plt.ylabel('True Positive Rate (TPR)')\n",
    "plt.title('Receiver Operating Characteristic (ROC) Curve')\n",
    "plt.legend(loc=\"lower right\")\n",
    "plt.show()"
   ]
  },
  {
   "cell_type": "markdown",
   "id": "79ed22e6-e479-483b-ae67-1f9adc97134a",
   "metadata": {},
   "source": [
    "## Estimation + writing to file"
   ]
  },
  {
   "cell_type": "code",
   "execution_count": null,
   "id": "8e6834d2-49c7-4d02-a1b2-f857c94c3901",
   "metadata": {},
   "outputs": [],
   "source": [
    "test_df = pl.read_csv('data/test_smiles.csv')\n",
    "test_df"
   ]
  },
  {
   "cell_type": "code",
   "execution_count": null,
   "id": "2d9686a5-e9ec-47d3-9a8f-32183284c408",
   "metadata": {},
   "outputs": [],
   "source": [
    "test_df = test_df.with_columns([\n",
    "    pl.col(\"SMILES\").map_elements(lambda x: calculate_all_features(x)[0], return_dtype=pl.Float64).alias(features[0]),\n",
    "    pl.col(\"SMILES\").map_elements(lambda x: calculate_all_features(x)[1], return_dtype=pl.Int64).alias(features[1]),\n",
    "    pl.col(\"SMILES\").map_elements(lambda x: calculate_all_features(x)[2], return_dtype=pl.Int64).alias(features[2]),\n",
    "    pl.col(\"SMILES\").map_elements(lambda x: calculate_all_features(x)[3], return_dtype=pl.Float64).alias(features[3]),\n",
    "    pl.col(\"SMILES\").map_elements(lambda x: calculate_all_features(x)[4], return_dtype=pl.Float64).alias(features[4]),\n",
    "    pl.col(\"SMILES\").map_elements(lambda x: calculate_all_features(x)[5], return_dtype=pl.Int64).alias(features[5]),\n",
    "    pl.col(\"SMILES\").map_elements(lambda x: calculate_all_features(x)[6], return_dtype=pl.Int64).alias(features[6]),\n",
    "    # pl.col(\"SMILES\").map_elements(lambda x: calculate_all_features(x)[3], return_dtype=pl.String).alias(\"MorganFingerprints\")\n",
    "])"
   ]
  },
  {
   "cell_type": "code",
   "execution_count": null,
   "id": "3c4a8eea-b19b-4174-a914-93aac760289a",
   "metadata": {},
   "outputs": [],
   "source": [
    "train_preds = bst.predict_proba(test_df[features])"
   ]
  },
  {
   "cell_type": "markdown",
   "id": "c0c31e90-bd62-4e31-8068-e1df499e589c",
   "metadata": {},
   "source": [
    "We have excluded a part of the training set to be our validation set, and we thus expect the AUC in the test set to match it. Based on our best performing model - the XGBooster model, the value should be **0.5944**."
   ]
  },
  {
   "cell_type": "code",
   "execution_count": null,
   "id": "63550628-239d-4408-9ba6-76d46547ac5f",
   "metadata": {},
   "outputs": [],
   "source": [
    "## Alternatively, we can look at the OOB performance - but it might benefit from overfitting, \n",
    "# due to it not being fully indepedent (in contrast to validation set performance).\n",
    "best_params = {'learning_rate': 0.1,\n",
    " 'max_depth': 11,\n",
    " 'n_estimators': 50,\n",
    " 'objective': 'binary:logistic'}\n",
    "\n",
    "bst = XGBClassifier(\n",
    "    **best_params,\n",
    "    scale_pos_weight=ratio,\n",
    "    random_state=42,\n",
    "    eval_metric='auc',\n",
    "    # enable_categorical=True,  # Enable categorical features\n",
    "    subsample=0.8,\n",
    ")\n",
    "\n",
    "bst.fit(X_train, y_train)"
   ]
  },
  {
   "cell_type": "code",
   "execution_count": null,
   "id": "601c73dd-c900-44f3-b5ad-b49e992555a9",
   "metadata": {},
   "outputs": [],
   "source": [
    "from sklearn.metrics import roc_auc_score\n",
    "oob_predictions = bst.predict_proba(X_train)[:, 1]\n",
    "oob_auc = roc_auc_score(y_train, oob_predictions)\n",
    "print(f\"Training OOB AUC-ROC: {oob_auc}\")"
   ]
  },
  {
   "cell_type": "code",
   "execution_count": null,
   "id": "582bcc34-2011-44bb-9b6c-a8ea66dc8f49",
   "metadata": {},
   "outputs": [],
   "source": [
    "from sklearn.metrics import roc_auc_score\n",
    "val_oob_predictions = bst.predict_proba(X_test)[:, 1]\n",
    "val_oob_auc = roc_auc_score(y_test, val_oob_predictions)\n",
    "print(f\"Validation OOB AUC-ROC: {val_oob_auc}\")"
   ]
  },
  {
   "cell_type": "markdown",
   "id": "c651dd2b-3faa-45e9-bbc1-1bc9b9dc0227",
   "metadata": {},
   "source": [
    "### Writing to file"
   ]
  },
  {
   "cell_type": "code",
   "execution_count": null,
   "id": "bad2024a-3a11-4a9e-b7d3-2c5732c47e43",
   "metadata": {},
   "outputs": [],
   "source": [
    "with open(\"10.txt\", \"w\") as f:\n",
    "    f.write(f\"{auc}\\n\")\n",
    "    for pred in train_preds:\n",
    "        positive_pred = pred[1]\n",
    "        f.write(f\"{positive_pred}\\n\")"
   ]
  },
  {
   "cell_type": "code",
   "execution_count": null,
   "id": "12fbb849-1c99-471b-961b-507e4a62b1ba",
   "metadata": {},
   "outputs": [],
   "source": [
    "predictions_df = pd.read_csv(\"10.txt\", header=None)\n",
    "assert predictions_df.shape == (69646+1, 1)\n",
    "assert np.all((predictions_df.values >= 0) & (predictions_df.values <= 1))"
   ]
  },
  {
   "cell_type": "code",
   "execution_count": null,
   "id": "9440d2ec",
   "metadata": {},
   "outputs": [],
   "source": []
  }
 ],
 "metadata": {
  "kernelspec": {
   "display_name": "Python 3 (ipykernel)",
   "language": "python",
   "name": "python3"
  },
  "language_info": {
   "codemirror_mode": {
    "name": "ipython",
    "version": 3
   },
   "file_extension": ".py",
   "mimetype": "text/x-python",
   "name": "python",
   "nbconvert_exporter": "python",
   "pygments_lexer": "ipython3",
   "version": "3.11.9"
  }
 },
 "nbformat": 4,
 "nbformat_minor": 5
}
