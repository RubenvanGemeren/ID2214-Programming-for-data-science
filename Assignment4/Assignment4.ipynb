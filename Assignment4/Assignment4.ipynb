{
 "cells": [
  {
   "cell_type": "code",
   "execution_count": null,
   "id": "aa017181-a955-45f7-8174-7b227466fc82",
   "metadata": {},
   "outputs": [],
   "source": [
    "import pandas as pd\n",
    "import polars as pl\n",
    "from rdkit import Chem"
   ]
  },
  {
   "cell_type": "code",
   "execution_count": null,
   "id": "4cac373a-3ac2-42e6-ab5a-bbe2f9a76c8b",
   "metadata": {},
   "outputs": [],
   "source": [
    "training_df = pl.read_csv('data/training_smiles.csv')\n",
    "test_df = pl.read_csv('data/test_smiles.csv')"
   ]
  },
  {
   "cell_type": "markdown",
   "id": "f1bf308e-27df-4229-a514-3cf85a389955",
   "metadata": {
    "jp-MarkdownHeadingCollapsed": true
   },
   "source": [
    "## Sanity check"
   ]
  },
  {
   "cell_type": "code",
   "execution_count": null,
   "id": "c2dd6422-a51c-49be-9fc0-7954d70cb420",
   "metadata": {},
   "outputs": [],
   "source": [
    "# Is this binary? Yes\n",
    "training_df['ACTIVE'].unique()"
   ]
  },
  {
   "cell_type": "code",
   "execution_count": null,
   "id": "3a19b270-5fd5-459e-ba48-7f9752ee57c9",
   "metadata": {},
   "outputs": [],
   "source": [
    "training_df"
   ]
  },
  {
   "cell_type": "code",
   "execution_count": null,
   "id": "4be3ce0b-62c8-434b-aa0e-88ea0c14c1f4",
   "metadata": {},
   "outputs": [],
   "source": [
    "first_entry = training_df['SMILES'].first()\n",
    "\n",
    "m1 = Chem.MolFromSmiles(first_entry)\n",
    "m1"
   ]
  },
  {
   "cell_type": "code",
   "execution_count": null,
   "id": "3e3fdd56-b0ba-4f3e-bdc6-77037222d8e9",
   "metadata": {},
   "outputs": [],
   "source": [
    "m1.GetNumAtoms()"
   ]
  },
  {
   "cell_type": "code",
   "execution_count": null,
   "id": "0753acf4-2768-432e-b822-c90017500763",
   "metadata": {},
   "outputs": [],
   "source": [
    "import rdkit.Chem.rdMolDescriptors as d\n",
    "\n",
    "d.CalcExactMolWt(m1)"
   ]
  },
  {
   "cell_type": "markdown",
   "id": "000eb7db-63f9-4654-bae4-4ba255f2e85b",
   "metadata": {},
   "source": [
    "## Feature engineering"
   ]
  },
  {
   "cell_type": "code",
   "execution_count": null,
   "id": "03c63979-6d0d-4697-8f95-b528c316336d",
   "metadata": {},
   "outputs": [],
   "source": [
    "from rdkit.Chem import rdMolDescriptors as d\n",
    "import rdkit.Chem.Fragments as f\n",
    "from rdkit.Chem import Lipinski as l\n",
    "# from rdkit.Chem import rdFingerprintGenerator\n",
    "\n",
    "# Define a function to calculate all features\n",
    "def calculate_all_features(smiles):\n",
    "    mol = Chem.MolFromSmiles(smiles)\n",
    "    if mol is None:\n",
    "        return None, None, None# , None\n",
    "    \n",
    "    # mfpgen = rdFingerprintGenerator.GetMorganGenerator(2, fpSize=1024)\n",
    "    # fingerprint = mfpgen.GetFingerprint(mol)\n",
    "    mol_weight = d.CalcExactMolWt(mol)\n",
    "    lipinski = l.HeavyAtomCount(mol)\n",
    "    fragments = f.fr_Al_COO(mol)\n",
    "    \n",
    "    return mol_weight, fragments, lipinski # , fingerprint\n",
    "\n",
    "# Apply the function to the SMILES column and unpack the results\n",
    "training_df = training_df.with_columns([\n",
    "    pl.col(\"SMILES\").map_elements(lambda x: calculate_all_features(x)[0], return_dtype=pl.Float64).alias(\"MolWeight\"),\n",
    "    pl.col(\"SMILES\").map_elements(lambda x: calculate_all_features(x)[1], return_dtype=pl.Int64).alias(\"Fragments\"),\n",
    "    pl.col(\"SMILES\").map_elements(lambda x: calculate_all_features(x)[2], return_dtype=pl.Int64).alias(\"Lipinski-HAcount\"),\n",
    "    # pl.col(\"SMILES\").map_elements(lambda x: calculate_all_features(x)[3], return_dtype=pl.String).alias(\"MorganFingerprints\")\n",
    "])"
   ]
  },
  {
   "cell_type": "code",
   "execution_count": null,
   "id": "cae1bf3f-c817-48eb-815f-1f1241999cfd",
   "metadata": {},
   "outputs": [],
   "source": [
    "training_df.select(\"MolWeight\", \"Fragments\", \"Lipinski-HAcount\")"
   ]
  },
  {
   "cell_type": "markdown",
   "id": "f97409a0-be77-45b7-9275-eb134c120936",
   "metadata": {},
   "source": [
    "## Make prediction"
   ]
  },
  {
   "cell_type": "code",
   "execution_count": null,
   "id": "29fe93dd-7c7a-4953-ac34-734e0906a650",
   "metadata": {},
   "outputs": [],
   "source": [
    "from sklearn.model_selection import train_test_split\n",
    "\n",
    "X = training_df['MolWeight', 'Fragments', 'Lipinski-HAcount']\n",
    "y = training_df[['ACTIVE']]\n",
    "\n",
    "X_train, X_test, y_train, y_test = train_test_split(X, y, test_size=.2)"
   ]
  },
  {
   "cell_type": "code",
   "execution_count": null,
   "id": "d5478b52-9148-4f2c-af12-6dc984f8d146",
   "metadata": {},
   "outputs": [],
   "source": [
    "value_counts = training_df['ACTIVE'].value_counts()\n",
    "print(\"Raw counts:\")\n",
    "print(value_counts)\n",
    "\n",
    "# Actual ratio\n",
    "ratio = value_counts.filter(pl.col(\"ACTIVE\") == 0.0)[\"count\"] / value_counts.filter(pl.col(\"ACTIVE\") == 1.0)[\"count\"]\n",
    "print(\"\\nCalculated ratio (negative/positive):\")\n",
    "print(ratio.item())"
   ]
  },
  {
   "cell_type": "code",
   "execution_count": null,
   "id": "3129d080-d589-4def-ac9e-3e2667a4aa57",
   "metadata": {},
   "outputs": [],
   "source": [
    "from xgboost import XGBClassifier\n",
    "\n",
    "# Taken from https://xgboost.readthedocs.io/en/stable/get_started.html\n",
    "bst = XGBClassifier(n_estimators=2, max_depth=2, learning_rate=1, scale_pos_weight=ratio.item(), objective='binary:logistic')"
   ]
  },
  {
   "cell_type": "code",
   "execution_count": null,
   "id": "0e1e28ac-8a9c-4de3-852f-1e8f9b1d92d1",
   "metadata": {},
   "outputs": [],
   "source": [
    "X_train, y_train"
   ]
  },
  {
   "cell_type": "code",
   "execution_count": null,
   "id": "0d9c060b-93f5-4d7e-a5c8-99e884b16bc6",
   "metadata": {},
   "outputs": [],
   "source": [
    "bst.fit(X_train, y_train)"
   ]
  },
  {
   "cell_type": "markdown",
   "id": "8531900c-67b0-4df6-9fb0-e1d00f60c737",
   "metadata": {},
   "source": [
    "## Evaluation"
   ]
  },
  {
   "cell_type": "code",
   "execution_count": null,
   "id": "c652757f-72fa-4951-98f0-47ac7a384878",
   "metadata": {},
   "outputs": [],
   "source": [
    "train_preds = bst.predict(X_train)"
   ]
  },
  {
   "cell_type": "code",
   "execution_count": null,
   "id": "00efda5e-ee11-48f1-9d46-c8aa84a5da54",
   "metadata": {},
   "outputs": [],
   "source": [
    "from sklearn import metrics\n",
    "\n",
    "fpr, tpr, thresholds = metrics.roc_curve(y_train, train_preds)\n",
    "metrics.auc(fpr, tpr)"
   ]
  },
  {
   "cell_type": "code",
   "execution_count": null,
   "id": "3a0fa0fe-f291-4347-9150-6d660ccc46a7",
   "metadata": {},
   "outputs": [],
   "source": [
    "val_preds = bst.predict(X_test)"
   ]
  },
  {
   "cell_type": "code",
   "execution_count": null,
   "id": "905722a0-2b77-4746-879f-03cc2ffdf048",
   "metadata": {},
   "outputs": [],
   "source": [
    "from sklearn import metrics\n",
    "\n",
    "fpr, tpr, thresholds = metrics.roc_curve(y_test, val_preds)\n",
    "metrics.auc(fpr, tpr)"
   ]
  },
  {
   "cell_type": "code",
   "execution_count": null,
   "id": "362d7564-a5b8-48a8-a4f1-7997bd549fe7",
   "metadata": {},
   "outputs": [],
   "source": []
  }
 ],
 "metadata": {
  "kernelspec": {
   "display_name": "Python 3 (ipykernel)",
   "language": "python",
   "name": "python3"
  },
  "language_info": {
   "codemirror_mode": {
    "name": "ipython",
    "version": 3
   },
   "file_extension": ".py",
   "mimetype": "text/x-python",
   "name": "python",
   "nbconvert_exporter": "python",
   "pygments_lexer": "ipython3",
   "version": "3.11.9"
  }
 },
 "nbformat": 4,
 "nbformat_minor": 5
}
